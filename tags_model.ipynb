{
 "cells": [
  {
   "cell_type": "code",
   "execution_count": 22,
   "metadata": {},
   "outputs": [],
   "source": [
    "from pathlib import PurePath"
   ]
  },
  {
   "cell_type": "code",
   "execution_count": 202,
   "metadata": {},
   "outputs": [],
   "source": [
    "import sqlalchemy as sql\n",
    "import pandas as pd\n",
    "import numpy as np"
   ]
  },
  {
   "cell_type": "code",
   "execution_count": 3,
   "metadata": {},
   "outputs": [],
   "source": [
    "from config import Config as cf"
   ]
  },
  {
   "cell_type": "code",
   "execution_count": 45,
   "metadata": {},
   "outputs": [],
   "source": [
    "pd.set_option(\"display.max_columns\", 20)\n",
    "pd.set_option(\"display.max_rows\", 20)\n",
    "pd.set_option(\"display.max_colwidth\", 100)"
   ]
  },
  {
   "attachments": {},
   "cell_type": "markdown",
   "metadata": {},
   "source": [
    "----"
   ]
  },
  {
   "cell_type": "code",
   "execution_count": 8,
   "metadata": {},
   "outputs": [],
   "source": [
    "from dotenv import dotenv_values\n",
    "config = dotenv_values()"
   ]
  },
  {
   "attachments": {},
   "cell_type": "markdown",
   "metadata": {},
   "source": [
    "#### Download data"
   ]
  },
  {
   "cell_type": "code",
   "execution_count": 14,
   "metadata": {},
   "outputs": [],
   "source": [
    "url = \"postgresql+psycopg2://{}:{}@{}:{}/{}\".format(\n",
    "    config.get('DATABASE_LOGIN'),\n",
    "    config.get('DATABASE_PASSWORD'),\n",
    "    config.get('DATABASE_HOST'),\n",
    "    config.get('DATABASE_PORT'),\n",
    "    config.get('DATABASE_NAME')\n",
    ")\n",
    "engine = sql.create_engine(url=url)\n",
    "\n",
    "with open(\"./sql/select_comments.sql\", \"r\") as query:\n",
    "    comments = pd.read_sql_query(query.read(), engine)"
   ]
  },
  {
   "cell_type": "code",
   "execution_count": 15,
   "metadata": {},
   "outputs": [],
   "source": [
    "comments.query(\"not comment.isna() & not place_id.isna()\", inplace=True)"
   ]
  },
  {
   "cell_type": "code",
   "execution_count": 16,
   "metadata": {},
   "outputs": [],
   "source": [
    "with open(\"./sql/select_tags.sql\", \"r\") as query:\n",
    "    tags = pd.read_sql_query(query.read(), engine)"
   ]
  },
  {
   "cell_type": "code",
   "execution_count": 17,
   "metadata": {},
   "outputs": [],
   "source": [
    "df = pd.DataFrame().from_records(comments.comment.values)"
   ]
  },
  {
   "cell_type": "code",
   "execution_count": 18,
   "metadata": {},
   "outputs": [],
   "source": [
    "df.insert(0, \"place_id\", comments.place_id.values)"
   ]
  },
  {
   "cell_type": "code",
   "execution_count": 19,
   "metadata": {},
   "outputs": [],
   "source": [
    "df = df.merge(tags, left_on=\"place_id\", right_on=\"place_id\", how=\"left\")"
   ]
  },
  {
   "cell_type": "code",
   "execution_count": 20,
   "metadata": {},
   "outputs": [],
   "source": [
    "df.drop(\"id\", axis=1, inplace=True)"
   ]
  },
  {
   "cell_type": "code",
   "execution_count": 23,
   "metadata": {},
   "outputs": [],
   "source": [
    "df.to_csv(PurePath(config.get('INITIAL_DATA_PATH'), \"comments_df.csv\"))"
   ]
  },
  {
   "attachments": {},
   "cell_type": "markdown",
   "metadata": {},
   "source": [
    "-----"
   ]
  },
  {
   "attachments": {},
   "cell_type": "markdown",
   "metadata": {},
   "source": [
    "### Making bi-gram`s"
   ]
  },
  {
   "cell_type": "code",
   "execution_count": 33,
   "metadata": {},
   "outputs": [],
   "source": [
    "data = pd.read_csv(PurePath(config.get('INITIAL_DATA_PATH'), \"comments_df.csv\"), index_col=0)"
   ]
  },
  {
   "cell_type": "code",
   "execution_count": 34,
   "metadata": {},
   "outputs": [],
   "source": [
    "tags = data.tag.unique()"
   ]
  },
  {
   "cell_type": "code",
   "execution_count": 217,
   "metadata": {},
   "outputs": [
    {
     "data": {
      "text/html": [
       "<div>\n",
       "<style scoped>\n",
       "    .dataframe tbody tr th:only-of-type {\n",
       "        vertical-align: middle;\n",
       "    }\n",
       "\n",
       "    .dataframe tbody tr th {\n",
       "        vertical-align: top;\n",
       "    }\n",
       "\n",
       "    .dataframe thead th {\n",
       "        text-align: right;\n",
       "    }\n",
       "</style>\n",
       "<table border=\"1\" class=\"dataframe\">\n",
       "  <thead>\n",
       "    <tr style=\"text-align: right;\">\n",
       "      <th></th>\n",
       "      <th>place_id</th>\n",
       "      <th>review_title</th>\n",
       "      <th>review_body</th>\n",
       "      <th>review_date</th>\n",
       "      <th>review_rating</th>\n",
       "      <th>review_likes</th>\n",
       "      <th>review_tag</th>\n",
       "      <th>tag</th>\n",
       "    </tr>\n",
       "  </thead>\n",
       "  <tbody>\n",
       "    <tr>\n",
       "      <th>0</th>\n",
       "      <td>1</td>\n",
       "      <td>Интересно прогуляться</td>\n",
       "      <td>Красивая набережная с барельефами отражающими историю города Тюмень Красивые виды Зимой строят с...</td>\n",
       "      <td>27 февраля 2023 г.</td>\n",
       "      <td>5.0</td>\n",
       "      <td>0</td>\n",
       "      <td>['RU']</td>\n",
       "      <td>Пирсы и пляжные променады</td>\n",
       "    </tr>\n",
       "    <tr>\n",
       "      <th>1</th>\n",
       "      <td>1</td>\n",
       "      <td>Место для романтических поогулок</td>\n",
       "      <td>Очень приятно прогуляться по набережной . Вечером красиво подсвечивается Мост Влюбленных и Кремл...</td>\n",
       "      <td>12 декабря 2022 г.</td>\n",
       "      <td>5.0</td>\n",
       "      <td>0</td>\n",
       "      <td>['RU']</td>\n",
       "      <td>Пирсы и пляжные променады</td>\n",
       "    </tr>\n",
       "    <tr>\n",
       "      <th>2</th>\n",
       "      <td>1</td>\n",
       "      <td>Концептуально-выдержанная идея вплоть до мелочей</td>\n",
       "      <td>Отличное место для отдыха, прогулок и даже знакомства с историей города и Сибири. Очень круто, ч...</td>\n",
       "      <td>16 ноября 2022 г.</td>\n",
       "      <td>5.0</td>\n",
       "      <td>0</td>\n",
       "      <td>['RU']</td>\n",
       "      <td>Пирсы и пляжные променады</td>\n",
       "    </tr>\n",
       "    <tr>\n",
       "      <th>3</th>\n",
       "      <td>1</td>\n",
       "      <td>Набережная в Тюмени</td>\n",
       "      <td>Красивая набережная, можно покататься на самокате, гуляет много народу, мост влюбленных вечером ...</td>\n",
       "      <td>2 сентября 2022 г.</td>\n",
       "      <td>5.0</td>\n",
       "      <td>1</td>\n",
       "      <td>['RU']</td>\n",
       "      <td>Пирсы и пляжные променады</td>\n",
       "    </tr>\n",
       "    <tr>\n",
       "      <th>4</th>\n",
       "      <td>1</td>\n",
       "      <td>Испортили хорошее место торгашами.</td>\n",
       "      <td>Убрать всех приставучих предпринимателей! Пришли погулять вечером, отдохнуть, а там мадам с пито...</td>\n",
       "      <td>27 июля 2022 г.</td>\n",
       "      <td>1.0</td>\n",
       "      <td>1</td>\n",
       "      <td>['С друзьями', 'RU']</td>\n",
       "      <td>Пирсы и пляжные променады</td>\n",
       "    </tr>\n",
       "  </tbody>\n",
       "</table>\n",
       "</div>"
      ],
      "text/plain": [
       "   place_id                                      review_title   \n",
       "0         1                             Интересно прогуляться  \\\n",
       "1         1                  Место для романтических поогулок   \n",
       "2         1  Концептуально-выдержанная идея вплоть до мелочей   \n",
       "3         1                               Набережная в Тюмени   \n",
       "4         1                Испортили хорошее место торгашами.   \n",
       "\n",
       "                                                                                           review_body   \n",
       "0  Красивая набережная с барельефами отражающими историю города Тюмень Красивые виды Зимой строят с...  \\\n",
       "1  Очень приятно прогуляться по набережной . Вечером красиво подсвечивается Мост Влюбленных и Кремл...   \n",
       "2  Отличное место для отдыха, прогулок и даже знакомства с историей города и Сибири. Очень круто, ч...   \n",
       "3  Красивая набережная, можно покататься на самокате, гуляет много народу, мост влюбленных вечером ...   \n",
       "4  Убрать всех приставучих предпринимателей! Пришли погулять вечером, отдохнуть, а там мадам с пито...   \n",
       "\n",
       "          review_date  review_rating  review_likes            review_tag   \n",
       "0  27 февраля 2023 г.            5.0             0                ['RU']  \\\n",
       "1  12 декабря 2022 г.            5.0             0                ['RU']   \n",
       "2   16 ноября 2022 г.            5.0             0                ['RU']   \n",
       "3  2 сентября 2022 г.            5.0             1                ['RU']   \n",
       "4     27 июля 2022 г.            1.0             1  ['С друзьями', 'RU']   \n",
       "\n",
       "                         tag  \n",
       "0  Пирсы и пляжные променады  \n",
       "1  Пирсы и пляжные променады  \n",
       "2  Пирсы и пляжные променады  \n",
       "3  Пирсы и пляжные променады  \n",
       "4  Пирсы и пляжные променады  "
      ]
     },
     "execution_count": 217,
     "metadata": {},
     "output_type": "execute_result"
    }
   ],
   "source": [
    "data.head()"
   ]
  },
  {
   "attachments": {},
   "cell_type": "markdown",
   "metadata": {},
   "source": [
    "---"
   ]
  },
  {
   "cell_type": "code",
   "execution_count": 42,
   "metadata": {},
   "outputs": [],
   "source": [
    "import re "
   ]
  },
  {
   "cell_type": "code",
   "execution_count": 85,
   "metadata": {},
   "outputs": [],
   "source": [
    "adjective = r\"\\w{4,}[ой, ий, ый, ая, ья, ью, ое, ые, ее, ье, ие, ьи, ого, его, ей, ему, ому, ыми, ими, ым, им, ом, ем, их, ых, ми]\""
   ]
  },
  {
   "cell_type": "code",
   "execution_count": 97,
   "metadata": {},
   "outputs": [],
   "source": [
    "noun = r\"\\w{4,}[а, и, е, у, й, я, о, ом, ём, ем, ь, ью]\""
   ]
  },
  {
   "cell_type": "code",
   "execution_count": 118,
   "metadata": {},
   "outputs": [],
   "source": [
    "regex =  adjective+noun"
   ]
  },
  {
   "cell_type": "code",
   "execution_count": 208,
   "metadata": {},
   "outputs": [
    {
     "data": {
      "text/plain": [
       "array(['Пирсы и пляжные променады', 'Специализированные музеи', 'Мосты',\n",
       "       'Образовательные объекты', 'Парки', 'Театры и представления',\n",
       "       'Культурные объекты и достопримечательности', 'Памятники и статуи',\n",
       "       'Церкви и соборы', 'Театры', 'Торговые центры',\n",
       "       'Горячие источники и гейзеры', 'Аквапарки', 'Исторические музеи',\n",
       "       'Арены и стадионы', 'Религиозные достопримечательности',\n",
       "       'Оздоровительные клубы', 'Спа', 'Термальные спа-центры',\n",
       "       'Зоопарки', 'Художественные галереи', 'Спортивные комплексы',\n",
       "       'На Мельникайте в Городе мастеров наодится небльшой художественный салон Альбины Харитоновой, выбор картин большой, проводятся выставки.',\n",
       "       'Сады', 'Боулинг', 'Бары и клубы', 'Комеди-клубы',\n",
       "       'Клубы на пляже и у бассейна',\n",
       "       'Другие виды активного отдыха на открытом воздухе',\n",
       "       'Кулинарные мастер-классы',\n",
       "       'Специализированные и сувенирные магазины', 'Кинотеатры',\n",
       "       'Квест Рум', 'Концерты', 'Игровые и развлекательные центры',\n",
       "       'Йога и пилатес', 'Железнодорожное сообщение',\n",
       "       'Маршруты для верховой езды', 'Конные экскурсии',\n",
       "       'Художественные студии и гончарные мастерские',\n",
       "       'Танцевальные клубы и дискотеки'], dtype=object)"
      ]
     },
     "execution_count": 208,
     "metadata": {},
     "output_type": "execute_result"
    }
   ],
   "source": [
    "tags"
   ]
  },
  {
   "cell_type": "code",
   "execution_count": 216,
   "metadata": {},
   "outputs": [],
   "source": [
    "table = pd.ExcelWriter(\"./tables/tags_by_place.xlsx\")\n",
    "\n",
    "for tag in tags:\n",
    "\n",
    "    df = data.query(\"tag == @tag\").copy()\n",
    "    \n",
    "    place_dict = {}\n",
    "\n",
    "    for i in df.index:\n",
    "\n",
    "        review = (\n",
    "            df\n",
    "            .loc[i]\n",
    "            .review_body\n",
    "            .replace(\",\", '')\n",
    "            .replace(\".\", \" POI \")\n",
    "            .lower()\n",
    "        )\n",
    "        review_rating = df.loc[i].review_rating\n",
    "        findall = re.findall(\n",
    "            regex, \n",
    "            review\n",
    "        )\n",
    "        for token in findall:\n",
    "            if token not in place_dict:\n",
    "                place_dict[token] = {\n",
    "                    \"count\": 1, \n",
    "                    \"ratings\": [review_rating, ]\n",
    "                }\n",
    "            else:            \n",
    "                count = final_dict[token][\"count\"]+1\n",
    "                place_dict[token][\"ratings\"].append(review_rating)\n",
    "\n",
    "                place_dict[token][\"count\"] = count\n",
    "\n",
    "    place_df = (\n",
    "        pd.DataFrame()\n",
    "        .from_dict(place_dict, orient=\"index\")\n",
    "        .sort_values(\"count\", ascending=False)\n",
    "    )\n",
    "    place_df[\"mean_rating\"] = place_df[\"ratings\"].apply(lambda x: np.mean(x))\n",
    "    place_df.drop(\"ratings\", axis=1, inplace=True)\n",
    "    place_df[\"count_reviews\"] = df.shape[0]\n",
    "    place_df[\"count_places\"] = len(df.place_id.unique())\n",
    "\n",
    "    place_df.to_excel(table, sheet_name=tag[:30])\n",
    "table.close()"
   ]
  },
  {
   "cell_type": "code",
   "execution_count": null,
   "metadata": {},
   "outputs": [],
   "source": []
  }
 ],
 "metadata": {
  "kernelspec": {
   "display_name": ".venv",
   "language": "python",
   "name": "python3"
  },
  "language_info": {
   "codemirror_mode": {
    "name": "ipython",
    "version": 3
   },
   "file_extension": ".py",
   "mimetype": "text/x-python",
   "name": "python",
   "nbconvert_exporter": "python",
   "pygments_lexer": "ipython3",
   "version": "3.10.6"
  },
  "orig_nbformat": 4
 },
 "nbformat": 4,
 "nbformat_minor": 2
}
