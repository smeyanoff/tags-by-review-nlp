{
 "cells": [
  {
   "cell_type": "code",
   "execution_count": 1,
   "metadata": {},
   "outputs": [],
   "source": [
    "import pandas as pd\n",
    "import numpy as np\n",
    "\n",
    "from utils.data_utils import DataUtils"
   ]
  },
  {
   "cell_type": "code",
   "execution_count": 2,
   "metadata": {},
   "outputs": [],
   "source": [
    "pd.set_option(\"display.max_columns\", 20)\n",
    "pd.set_option(\"display.max_rows\", 20)\n",
    "pd.set_option(\"display.max_colwidth\", 100)"
   ]
  },
  {
   "attachments": {},
   "cell_type": "markdown",
   "metadata": {},
   "source": [
    "----"
   ]
  },
  {
   "attachments": {},
   "cell_type": "markdown",
   "metadata": {},
   "source": [
    "#### Download data"
   ]
  },
  {
   "cell_type": "code",
   "execution_count": 3,
   "metadata": {},
   "outputs": [],
   "source": [
    "DataUtils.download_data(\"sql/select_comments.sql\", \"comments\")"
   ]
  },
  {
   "cell_type": "code",
   "execution_count": 5,
   "metadata": {},
   "outputs": [],
   "source": [
    "DataUtils.download_data(\"sql/select_tags.sql\", \"tags\")"
   ]
  },
  {
   "cell_type": "code",
   "execution_count": 6,
   "metadata": {},
   "outputs": [],
   "source": [
    "comments = pd.read_parquet(\"data/initial_data/comments.parquet\")\n",
    "comments.query(\"not comment.isna() & not place_id.isna()\", inplace=True)"
   ]
  },
  {
   "cell_type": "code",
   "execution_count": 7,
   "metadata": {},
   "outputs": [],
   "source": [
    "tags = pd.read_parquet(\"data/initial_data/tags.parquet\")"
   ]
  },
  {
   "cell_type": "code",
   "execution_count": 8,
   "metadata": {},
   "outputs": [],
   "source": [
    "df = pd.DataFrame().from_records(comments.comment.values)"
   ]
  },
  {
   "cell_type": "code",
   "execution_count": 11,
   "metadata": {},
   "outputs": [],
   "source": [
    "df.insert(0, \"place_id\", comments.place_id.values)"
   ]
  },
  {
   "cell_type": "code",
   "execution_count": 12,
   "metadata": {},
   "outputs": [],
   "source": [
    "df = df.merge(tags, left_on=\"place_id\", right_on=\"place_id\", how=\"left\")"
   ]
  },
  {
   "cell_type": "code",
   "execution_count": 13,
   "metadata": {},
   "outputs": [],
   "source": [
    "df.drop(\"id\", axis=1, inplace=True)"
   ]
  },
  {
   "cell_type": "code",
   "execution_count": 14,
   "metadata": {},
   "outputs": [],
   "source": [
    "df.to_parquet(\"data/intermediate_data/comments.parquet\")"
   ]
  },
  {
   "attachments": {},
   "cell_type": "markdown",
   "metadata": {},
   "source": [
    "-----"
   ]
  },
  {
   "cell_type": "code",
   "execution_count": 1,
   "metadata": {},
   "outputs": [],
   "source": [
    "import pandas as pd"
   ]
  },
  {
   "cell_type": "code",
   "execution_count": 2,
   "metadata": {},
   "outputs": [],
   "source": [
    "df = pd.read_parquet(\"data/intermediate_data/comments.parquet\")"
   ]
  },
  {
   "cell_type": "code",
   "execution_count": 3,
   "metadata": {},
   "outputs": [
    {
     "data": {
      "text/html": [
       "<div>\n",
       "<style scoped>\n",
       "    .dataframe tbody tr th:only-of-type {\n",
       "        vertical-align: middle;\n",
       "    }\n",
       "\n",
       "    .dataframe tbody tr th {\n",
       "        vertical-align: top;\n",
       "    }\n",
       "\n",
       "    .dataframe thead th {\n",
       "        text-align: right;\n",
       "    }\n",
       "</style>\n",
       "<table border=\"1\" class=\"dataframe\">\n",
       "  <thead>\n",
       "    <tr style=\"text-align: right;\">\n",
       "      <th></th>\n",
       "      <th>place_id</th>\n",
       "      <th>review_body</th>\n",
       "      <th>review_date</th>\n",
       "      <th>review_likes</th>\n",
       "      <th>review_rating</th>\n",
       "      <th>review_tag</th>\n",
       "      <th>review_title</th>\n",
       "      <th>tag</th>\n",
       "    </tr>\n",
       "  </thead>\n",
       "  <tbody>\n",
       "    <tr>\n",
       "      <th>3594</th>\n",
       "      <td>100</td>\n",
       "      <td>Замечательное и очень уютное место! Хорошая ку...</td>\n",
       "      <td>23 февраля 2018 г.</td>\n",
       "      <td>0.0</td>\n",
       "      <td>5.0</td>\n",
       "      <td>[Бизнес, RU]</td>\n",
       "      <td>Турнир по боулингу</td>\n",
       "      <td>Бары и клубы</td>\n",
       "    </tr>\n",
       "    <tr>\n",
       "      <th>1041</th>\n",
       "      <td>2</td>\n",
       "      <td>Очень красивый и многолюдный мост. Гуляя по ис...</td>\n",
       "      <td>21 июня 2014 г.</td>\n",
       "      <td>2.0</td>\n",
       "      <td>5.0</td>\n",
       "      <td>[Бизнес, RU]</td>\n",
       "      <td>Визитная карточка города</td>\n",
       "      <td>Мосты</td>\n",
       "    </tr>\n",
       "    <tr>\n",
       "      <th>599</th>\n",
       "      <td>1</td>\n",
       "      <td>Я живу в Тюмени, и можно много рассказывать о ...</td>\n",
       "      <td>9 июня 2014 г.</td>\n",
       "      <td>4.0</td>\n",
       "      <td>5.0</td>\n",
       "      <td>[Бизнес, RU]</td>\n",
       "      <td>Чудесное место</td>\n",
       "      <td>Пирсы и пляжные променады</td>\n",
       "    </tr>\n",
       "    <tr>\n",
       "      <th>2066</th>\n",
       "      <td>11</td>\n",
       "      <td>Я считаю музеи обязательными для посещения: го...</td>\n",
       "      <td>9 октября 2017 г.</td>\n",
       "      <td>1.0</td>\n",
       "      <td>3.0</td>\n",
       "      <td>[С друзьями, RU]</td>\n",
       "      <td>Не Лувр, конечно, но сходить надо обязательно</td>\n",
       "      <td>Специализированные музеи</td>\n",
       "    </tr>\n",
       "    <tr>\n",
       "      <th>1696</th>\n",
       "      <td>5</td>\n",
       "      <td>Думаю, таким образом много денег не насобираеш...</td>\n",
       "      <td>27 января 2015 г.</td>\n",
       "      <td>1.0</td>\n",
       "      <td>3.0</td>\n",
       "      <td>[Семейный отдых, RU]</td>\n",
       "      <td>Ни к чему это</td>\n",
       "      <td>Культурные объекты и достопримечательности</td>\n",
       "    </tr>\n",
       "  </tbody>\n",
       "</table>\n",
       "</div>"
      ],
      "text/plain": [
       "      place_id                                        review_body  \\\n",
       "3594       100  Замечательное и очень уютное место! Хорошая ку...   \n",
       "1041         2  Очень красивый и многолюдный мост. Гуляя по ис...   \n",
       "599          1  Я живу в Тюмени, и можно много рассказывать о ...   \n",
       "2066        11  Я считаю музеи обязательными для посещения: го...   \n",
       "1696         5  Думаю, таким образом много денег не насобираеш...   \n",
       "\n",
       "             review_date  review_likes  review_rating            review_tag  \\\n",
       "3594  23 февраля 2018 г.           0.0            5.0          [Бизнес, RU]   \n",
       "1041     21 июня 2014 г.           2.0            5.0          [Бизнес, RU]   \n",
       "599       9 июня 2014 г.           4.0            5.0          [Бизнес, RU]   \n",
       "2066   9 октября 2017 г.           1.0            3.0      [С друзьями, RU]   \n",
       "1696   27 января 2015 г.           1.0            3.0  [Семейный отдых, RU]   \n",
       "\n",
       "                                       review_title  \\\n",
       "3594                             Турнир по боулингу   \n",
       "1041                       Визитная карточка города   \n",
       "599                                  Чудесное место   \n",
       "2066  Не Лувр, конечно, но сходить надо обязательно   \n",
       "1696                                  Ни к чему это   \n",
       "\n",
       "                                             tag  \n",
       "3594                                Бары и клубы  \n",
       "1041                                       Мосты  \n",
       "599                    Пирсы и пляжные променады  \n",
       "2066                    Специализированные музеи  \n",
       "1696  Культурные объекты и достопримечательности  "
      ]
     },
     "execution_count": 3,
     "metadata": {},
     "output_type": "execute_result"
    }
   ],
   "source": [
    "df.sample(5)"
   ]
  },
  {
   "cell_type": "code",
   "execution_count": 4,
   "metadata": {},
   "outputs": [
    {
     "name": "stdout",
     "output_type": "stream",
     "text": [
      "Красивая набережная с барельефами отражающими историю города Тюмень Красивые виды Зимой строят специальную горку для фристайла и сноуборда Можно посмотреть соревнования а можно просто погулять \n",
      "\n",
      "Отличное место для отдыха, прогулок и даже знакомства с историей города и Сибири. Очень круто, что скульптурные композиции, расположенные вдоль прогулочного маршрута, знакомят вас с историей региона, города, выдающихся личностей, а не как это сейчас популярно делать во многих городах - ни к чему не относящиеся, и ни о чем не говорящие, скульптуры а-ля городовой, кот/пёс/лис/конь на удачу и т.п.\n",
      "Обязательно надо прогуляться по набережной днем, а затем в вечернее время, когда включается архитектурно-художественная подсветка. Идея сделать мост не просто красиво, а в форме струги, придаёт масштаб всей концепции историзма набережной Туры. \n",
      "\n",
      "Красивая набережная, можно покататься на самокате, гуляет много народу, мост влюбленных вечером красиво светится \n",
      "\n",
      "Отличное место во всех смыслах! Погулять парочкам, покататься на велосипедах, заняться пробежкой, прогуляться с родителями, пообщаться с друзьями... И так далее... И это всё она, набережная Тюмени, прекрасна в любое время суток, приезжайте и убедитесь сами 😊 \n",
      "\n"
     ]
    }
   ],
   "source": [
    "test = df.review_body[0]\n",
    "test1 = df.review_body[2]\n",
    "test2 = df.review_body[3]\n",
    "test3 = df.review_body[124]\n",
    "test4 = df.review_body[412]\n",
    "\n",
    "print(test, \"\\n\")\n",
    "print(test1, \"\\n\")\n",
    "print(test2, \"\\n\")\n",
    "print(test3, \"\\n\")"
   ]
  },
  {
   "cell_type": "code",
   "execution_count": 5,
   "metadata": {},
   "outputs": [
    {
     "name": "stderr",
     "output_type": "stream",
     "text": [
      "/home/dmitry/.cache/pypoetry/virtualenvs/lewart-tags-model-dMjvlOT--py3.10/lib/python3.10/site-packages/tqdm/auto.py:21: TqdmWarning: IProgress not found. Please update jupyter and ipywidgets. See https://ipywidgets.readthedocs.io/en/stable/user_install.html\n",
      "  from .autonotebook import tqdm as notebook_tqdm\n"
     ]
    }
   ],
   "source": [
    "from models import mt5_ml_xls\n",
    "from models import roberta"
   ]
  },
  {
   "cell_type": "code",
   "execution_count": 6,
   "metadata": {},
   "outputs": [],
   "source": [
    "model = roberta()"
   ]
  },
  {
   "cell_type": "code",
   "execution_count": 7,
   "metadata": {},
   "outputs": [],
   "source": [
    "# TODO() кластеризация по эмбендингам"
   ]
  },
  {
   "cell_type": "code",
   "execution_count": 25,
   "metadata": {},
   "outputs": [],
   "source": [
    "review = test3\n",
    "proba = 0.3\n",
    "questions = [\"Чем заняться?\", \"Какой?\", \"Почему?\", \"В какое время?\", \"Зачем?\"]"
   ]
  },
  {
   "cell_type": "code",
   "execution_count": 26,
   "metadata": {},
   "outputs": [
    {
     "name": "stdout",
     "output_type": "stream",
     "text": [
      "('Отличное место во всех смыслах! Погулять парочкам, покататься на '\n",
      " 'велосипедах, заняться пробежкой, прогуляться с родителями, пообщаться с '\n",
      " 'друзьями... И так далее... И это всё она, набережная Тюмени, прекрасна в '\n",
      " 'любое время суток, приезжайте и убедитесь сами 😊')\n",
      "\n",
      "\n",
      "Чем заняться? :  ['пробежка']\n",
      "Какой? :  []\n",
      "Почему? :  []\n",
      "В какое время? :  ['любое время суток']\n",
      "Зачем? :  []\n"
     ]
    }
   ],
   "source": [
    "from pprint import pprint\n",
    "pprint(review)\n",
    "print(\"\\n\")\n",
    "for question in questions:\n",
    "    print(question, \": \", model.get_tags(review, question, proba=proba))"
   ]
  },
  {
   "cell_type": "code",
   "execution_count": 87,
   "metadata": {},
   "outputs": [
    {
     "name": "stdout",
     "output_type": "stream",
     "text": [
      "для отдыха, прогулок\n"
     ]
    }
   ],
   "source": [
    "answer = model.answer(review, \"Чем заняться?\", proba=proba)\n",
    "print(answer)"
   ]
  },
  {
   "cell_type": "code",
   "execution_count": 88,
   "metadata": {},
   "outputs": [
    {
     "name": "stdout",
     "output_type": "stream",
     "text": [
      "['отдыха', 'прогулок']\n"
     ]
    }
   ],
   "source": [
    "answer_cleared = model._clear_stopwords(answer)\n",
    "print(answer_cleared)"
   ]
  },
  {
   "cell_type": "code",
   "execution_count": 89,
   "metadata": {},
   "outputs": [],
   "source": [
    "parts = []\n",
    "for token in answer_cleared:\n",
    "    parts.append(model._get_part_of_words(token))"
   ]
  },
  {
   "cell_type": "code",
   "execution_count": 90,
   "metadata": {},
   "outputs": [
    {
     "data": {
      "text/plain": [
       "[{'отдыха': {'lemma': 'отдых', 'pos': 'NOUN', 'dep': 'ROOT'}},\n",
       " {'прогулок': {'lemma': 'прогулка', 'pos': 'NOUN', 'dep': 'ROOT'}}]"
      ]
     },
     "execution_count": 90,
     "metadata": {},
     "output_type": "execute_result"
    }
   ],
   "source": [
    "parts"
   ]
  },
  {
   "cell_type": "code",
   "execution_count": null,
   "metadata": {},
   "outputs": [],
   "source": []
  }
 ],
 "metadata": {
  "kernelspec": {
   "display_name": ".venv",
   "language": "python",
   "name": "python3"
  },
  "language_info": {
   "codemirror_mode": {
    "name": "ipython",
    "version": 3
   },
   "file_extension": ".py",
   "mimetype": "text/x-python",
   "name": "python",
   "nbconvert_exporter": "python",
   "pygments_lexer": "ipython3",
   "version": "3.10.6"
  },
  "orig_nbformat": 4
 },
 "nbformat": 4,
 "nbformat_minor": 2
}
