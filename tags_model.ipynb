{
 "cells": [
  {
   "cell_type": "code",
   "execution_count": 1,
   "metadata": {},
   "outputs": [],
   "source": [
    "import pandas as pd\n",
    "import numpy as np\n",
    "\n",
    "from utils.data_utils import DataUtils"
   ]
  },
  {
   "cell_type": "code",
   "execution_count": 2,
   "metadata": {},
   "outputs": [],
   "source": [
    "pd.set_option(\"display.max_columns\", 20)\n",
    "pd.set_option(\"display.max_rows\", 20)\n",
    "pd.set_option(\"display.max_colwidth\", 100)"
   ]
  },
  {
   "attachments": {},
   "cell_type": "markdown",
   "metadata": {},
   "source": [
    "----"
   ]
  },
  {
   "attachments": {},
   "cell_type": "markdown",
   "metadata": {},
   "source": [
    "#### Download data"
   ]
  },
  {
   "cell_type": "code",
   "execution_count": 3,
   "metadata": {},
   "outputs": [],
   "source": [
    "DataUtils.download_data(\"sql/select_comments.sql\", \"comments\")"
   ]
  },
  {
   "cell_type": "code",
   "execution_count": 5,
   "metadata": {},
   "outputs": [],
   "source": [
    "DataUtils.download_data(\"sql/select_tags.sql\", \"tags\")"
   ]
  },
  {
   "cell_type": "code",
   "execution_count": 6,
   "metadata": {},
   "outputs": [],
   "source": [
    "comments = pd.read_parquet(\"data/initial_data/comments.parquet\")\n",
    "comments.query(\"not comment.isna() & not place_id.isna()\", inplace=True)"
   ]
  },
  {
   "cell_type": "code",
   "execution_count": 7,
   "metadata": {},
   "outputs": [],
   "source": [
    "tags = pd.read_parquet(\"data/initial_data/tags.parquet\")"
   ]
  },
  {
   "cell_type": "code",
   "execution_count": 8,
   "metadata": {},
   "outputs": [],
   "source": [
    "df = pd.DataFrame().from_records(comments.comment.values)"
   ]
  },
  {
   "cell_type": "code",
   "execution_count": 11,
   "metadata": {},
   "outputs": [],
   "source": [
    "df.insert(0, \"place_id\", comments.place_id.values)"
   ]
  },
  {
   "cell_type": "code",
   "execution_count": 12,
   "metadata": {},
   "outputs": [],
   "source": [
    "df = df.merge(tags, left_on=\"place_id\", right_on=\"place_id\", how=\"left\")"
   ]
  },
  {
   "cell_type": "code",
   "execution_count": 13,
   "metadata": {},
   "outputs": [],
   "source": [
    "df.drop(\"id\", axis=1, inplace=True)"
   ]
  },
  {
   "cell_type": "code",
   "execution_count": 14,
   "metadata": {},
   "outputs": [],
   "source": [
    "df.to_parquet(\"data/intermediate_data/comments.parquet\")"
   ]
  },
  {
   "attachments": {},
   "cell_type": "markdown",
   "metadata": {},
   "source": [
    "-----"
   ]
  },
  {
   "cell_type": "code",
   "execution_count": 1,
   "metadata": {},
   "outputs": [],
   "source": [
    "import pandas as pd"
   ]
  },
  {
   "cell_type": "code",
   "execution_count": 2,
   "metadata": {},
   "outputs": [],
   "source": [
    "df = pd.read_parquet(\"data/intermediate_data/comments.parquet\")"
   ]
  },
  {
   "cell_type": "code",
   "execution_count": 3,
   "metadata": {},
   "outputs": [
    {
     "data": {
      "text/html": [
       "<div>\n",
       "<style scoped>\n",
       "    .dataframe tbody tr th:only-of-type {\n",
       "        vertical-align: middle;\n",
       "    }\n",
       "\n",
       "    .dataframe tbody tr th {\n",
       "        vertical-align: top;\n",
       "    }\n",
       "\n",
       "    .dataframe thead th {\n",
       "        text-align: right;\n",
       "    }\n",
       "</style>\n",
       "<table border=\"1\" class=\"dataframe\">\n",
       "  <thead>\n",
       "    <tr style=\"text-align: right;\">\n",
       "      <th></th>\n",
       "      <th>place_id</th>\n",
       "      <th>review_body</th>\n",
       "      <th>review_date</th>\n",
       "      <th>review_likes</th>\n",
       "      <th>review_rating</th>\n",
       "      <th>review_tag</th>\n",
       "      <th>review_title</th>\n",
       "      <th>tag</th>\n",
       "    </tr>\n",
       "  </thead>\n",
       "  <tbody>\n",
       "    <tr>\n",
       "      <th>2780</th>\n",
       "      <td>29</td>\n",
       "      <td>Памятник. прямо скажем, бредовый. Сделан тяп-л...</td>\n",
       "      <td>31 июля 2014 г.</td>\n",
       "      <td>1.0</td>\n",
       "      <td>2.0</td>\n",
       "      <td>[Путешествие в одиночку, RU]</td>\n",
       "      <td>Тяп-ляп</td>\n",
       "      <td>Памятники и статуи</td>\n",
       "    </tr>\n",
       "    <tr>\n",
       "      <th>3931</th>\n",
       "      <td>119</td>\n",
       "      <td>Отличное место. Помню как возмущались жители д...</td>\n",
       "      <td>21 октября 2014 г.</td>\n",
       "      <td>0.0</td>\n",
       "      <td>5.0</td>\n",
       "      <td>[Семейный отдых, RU]</td>\n",
       "      <td>Отличное место</td>\n",
       "      <td>Другие виды активного отдыха на открытом воздухе</td>\n",
       "    </tr>\n",
       "    <tr>\n",
       "      <th>1470</th>\n",
       "      <td>3</td>\n",
       "      <td>Провинциальная попытка сделать интересное мест...</td>\n",
       "      <td>30 января 2013 г.</td>\n",
       "      <td>1.0</td>\n",
       "      <td>3.0</td>\n",
       "      <td>[Семейный отдых, RU]</td>\n",
       "      <td>Странное впечатление</td>\n",
       "      <td>Парки</td>\n",
       "    </tr>\n",
       "    <tr>\n",
       "      <th>2849</th>\n",
       "      <td>31</td>\n",
       "      <td>Хочу сказать для гостей города, что Тюменский ...</td>\n",
       "      <td>19 июля 2015 г.</td>\n",
       "      <td>1.0</td>\n",
       "      <td>5.0</td>\n",
       "      <td>[Семейный отдых, RU]</td>\n",
       "      <td>Красивое современное здание Тюменского театра ...</td>\n",
       "      <td>Театры</td>\n",
       "    </tr>\n",
       "    <tr>\n",
       "      <th>1914</th>\n",
       "      <td>8</td>\n",
       "      <td>Хорошо отремонтированный, чистый парк с беспла...</td>\n",
       "      <td>31 августа 2014 г.</td>\n",
       "      <td>1.0</td>\n",
       "      <td>5.0</td>\n",
       "      <td>[Бизнес, RU]</td>\n",
       "      <td>Замечательный парк</td>\n",
       "      <td>Парки</td>\n",
       "    </tr>\n",
       "  </tbody>\n",
       "</table>\n",
       "</div>"
      ],
      "text/plain": [
       "      place_id                                        review_body  \\\n",
       "2780        29  Памятник. прямо скажем, бредовый. Сделан тяп-л...   \n",
       "3931       119  Отличное место. Помню как возмущались жители д...   \n",
       "1470         3  Провинциальная попытка сделать интересное мест...   \n",
       "2849        31  Хочу сказать для гостей города, что Тюменский ...   \n",
       "1914         8  Хорошо отремонтированный, чистый парк с беспла...   \n",
       "\n",
       "             review_date  review_likes  review_rating  \\\n",
       "2780     31 июля 2014 г.           1.0            2.0   \n",
       "3931  21 октября 2014 г.           0.0            5.0   \n",
       "1470   30 января 2013 г.           1.0            3.0   \n",
       "2849     19 июля 2015 г.           1.0            5.0   \n",
       "1914  31 августа 2014 г.           1.0            5.0   \n",
       "\n",
       "                        review_tag  \\\n",
       "2780  [Путешествие в одиночку, RU]   \n",
       "3931          [Семейный отдых, RU]   \n",
       "1470          [Семейный отдых, RU]   \n",
       "2849          [Семейный отдых, RU]   \n",
       "1914                  [Бизнес, RU]   \n",
       "\n",
       "                                           review_title  \\\n",
       "2780                                            Тяп-ляп   \n",
       "3931                                     Отличное место   \n",
       "1470                               Странное впечатление   \n",
       "2849  Красивое современное здание Тюменского театра ...   \n",
       "1914                                 Замечательный парк   \n",
       "\n",
       "                                                   tag  \n",
       "2780                                Памятники и статуи  \n",
       "3931  Другие виды активного отдыха на открытом воздухе  \n",
       "1470                                             Парки  \n",
       "2849                                            Театры  \n",
       "1914                                             Парки  "
      ]
     },
     "execution_count": 3,
     "metadata": {},
     "output_type": "execute_result"
    }
   ],
   "source": [
    "df.sample(5)"
   ]
  },
  {
   "cell_type": "code",
   "execution_count": 4,
   "metadata": {},
   "outputs": [
    {
     "name": "stdout",
     "output_type": "stream",
     "text": [
      "Красивая набережная с барельефами отражающими историю города Тюмень Красивые виды Зимой строят специальную горку для фристайла и сноуборда Можно посмотреть соревнования а можно просто погулять \n",
      "\n",
      "Отличное место для отдыха, прогулок и даже знакомства с историей города и Сибири. Очень круто, что скульптурные композиции, расположенные вдоль прогулочного маршрута, знакомят вас с историей региона, города, выдающихся личностей, а не как это сейчас популярно делать во многих городах - ни к чему не относящиеся, и ни о чем не говорящие, скульптуры а-ля городовой, кот/пёс/лис/конь на удачу и т.п.\n",
      "Обязательно надо прогуляться по набережной днем, а затем в вечернее время, когда включается архитектурно-художественная подсветка. Идея сделать мост не просто красиво, а в форме струги, придаёт масштаб всей концепции историзма набережной Туры. \n",
      "\n",
      "Красивая набережная, можно покататься на самокате, гуляет много народу, мост влюбленных вечером красиво светится \n",
      "\n",
      "Отличное место во всех смыслах! Погулять парочкам, покататься на велосипедах, заняться пробежкой, прогуляться с родителями, пообщаться с друзьями... И так далее... И это всё она, набережная Тюмени, прекрасна в любое время суток, приезжайте и убедитесь сами 😊 \n",
      "\n"
     ]
    }
   ],
   "source": [
    "test = df.review_body[0]\n",
    "test1 = df.review_body[2]\n",
    "test2 = df.review_body[3]\n",
    "test3 = df.review_body[124]\n",
    "test4 = df.review_body[412]\n",
    "\n",
    "print(test, \"\\n\")\n",
    "print(test1, \"\\n\")\n",
    "print(test2, \"\\n\")\n",
    "print(test3, \"\\n\")"
   ]
  },
  {
   "cell_type": "code",
   "execution_count": 5,
   "metadata": {},
   "outputs": [
    {
     "name": "stderr",
     "output_type": "stream",
     "text": [
      "/home/dmitry/.cache/pypoetry/virtualenvs/lewart-tags-model-dMjvlOT--py3.10/lib/python3.10/site-packages/tqdm/auto.py:21: TqdmWarning: IProgress not found. Please update jupyter and ipywidgets. See https://ipywidgets.readthedocs.io/en/stable/user_install.html\n",
      "  from .autonotebook import tqdm as notebook_tqdm\n"
     ]
    }
   ],
   "source": [
    "# from models import mt5_ml_xls\n",
    "from models import roberta"
   ]
  },
  {
   "cell_type": "code",
   "execution_count": 6,
   "metadata": {},
   "outputs": [],
   "source": [
    "from models import roberta\n",
    "model = roberta()"
   ]
  },
  {
   "cell_type": "code",
   "execution_count": 7,
   "metadata": {},
   "outputs": [],
   "source": [
    "# TODO() кластеризация по эмбендингам"
   ]
  },
  {
   "cell_type": "code",
   "execution_count": 31,
   "metadata": {},
   "outputs": [],
   "source": [
    "review = test3\n",
    "proba = 0.0\n",
    "questions = [\n",
    "    \"Чем заняться?\", \n",
    "    \"Какой?\", \n",
    "    \"Когда?\", \n",
    "    \"Какие ощущения\", \n",
    "    \"Почему?\", \n",
    "    \"Для кого?\", \n",
    "    \"С кем?\",\n",
    "    \"Что?\",\n",
    "    \"Кому?\",\n",
    "    \"Для чего?\"\n",
    "]"
   ]
  },
  {
   "cell_type": "code",
   "execution_count": 32,
   "metadata": {},
   "outputs": [
    {
     "name": "stdout",
     "output_type": "stream",
     "text": [
      "('Отличное место во всех смыслах! Погулять парочкам, покататься на '\n",
      " 'велосипедах, заняться пробежкой, прогуляться с родителями, пообщаться с '\n",
      " 'друзьями... И так далее... И это всё она, набережная Тюмени, прекрасна в '\n",
      " 'любое время суток, приезжайте и убедитесь сами 😊')\n",
      "\n",
      "\n",
      "Чем заняться? :  [array(['пробежка'], dtype='<U8'), (0.742, 0.874)]\n",
      "Какой? :  [array(['отличное место'], dtype='<U14'), (0.473, 0.249)]\n",
      "Когда? :  [array(['любое время суток'], dtype='<U17'), (0.899, 0.866)]\n",
      "Какие ощущения :  []\n",
      "Почему? :  []\n",
      "Для кого? :  [array(['погулять парочкам'], dtype='<U17'), (0.875, 0.287)]\n",
      "С кем? :  [array(['друг'], dtype='<U4'), (0.346, 0.637)]\n",
      "Что? :  [array(['набережная тюмени'], dtype='<U17'), (0.742, 0.478)]\n",
      "Кому? :  [array(['погулять парочкам'], dtype='<U17'), (0.877, 0.476)]\n",
      "Для чего? :  []\n"
     ]
    }
   ],
   "source": [
    "from pprint import pprint\n",
    "pprint(review)\n",
    "print(\"\\n\")\n",
    "for question in questions:\n",
    "    print(question, \": \", model.get_tags(review, question, proba=proba))"
   ]
  },
  {
   "attachments": {},
   "cell_type": "markdown",
   "metadata": {},
   "source": [
    "## Score the data"
   ]
  },
  {
   "cell_type": "code",
   "execution_count": 1,
   "metadata": {},
   "outputs": [],
   "source": [
    "import pandas as pd\n",
    "df = pd.read_parquet(\"data/intermediate_data/comments.parquet\")"
   ]
  },
  {
   "cell_type": "code",
   "execution_count": 2,
   "metadata": {},
   "outputs": [
    {
     "name": "stderr",
     "output_type": "stream",
     "text": [
      "/home/dmitry/.cache/pypoetry/virtualenvs/lewart-tags-model-dMjvlOT--py3.10/lib/python3.10/site-packages/tqdm/auto.py:21: TqdmWarning: IProgress not found. Please update jupyter and ipywidgets. See https://ipywidgets.readthedocs.io/en/stable/user_install.html\n",
      "  from .autonotebook import tqdm as notebook_tqdm\n"
     ]
    }
   ],
   "source": [
    "from models import roberta\n",
    "model = roberta()"
   ]
  },
  {
   "cell_type": "code",
   "execution_count": 3,
   "metadata": {},
   "outputs": [
    {
     "data": {
      "text/html": [
       "<div>\n",
       "<style scoped>\n",
       "    .dataframe tbody tr th:only-of-type {\n",
       "        vertical-align: middle;\n",
       "    }\n",
       "\n",
       "    .dataframe tbody tr th {\n",
       "        vertical-align: top;\n",
       "    }\n",
       "\n",
       "    .dataframe thead th {\n",
       "        text-align: right;\n",
       "    }\n",
       "</style>\n",
       "<table border=\"1\" class=\"dataframe\">\n",
       "  <thead>\n",
       "    <tr style=\"text-align: right;\">\n",
       "      <th></th>\n",
       "      <th>place_id</th>\n",
       "      <th>review_body</th>\n",
       "      <th>review_date</th>\n",
       "      <th>review_likes</th>\n",
       "      <th>review_rating</th>\n",
       "      <th>review_tag</th>\n",
       "      <th>review_title</th>\n",
       "      <th>tag</th>\n",
       "    </tr>\n",
       "  </thead>\n",
       "  <tbody>\n",
       "    <tr>\n",
       "      <th>0</th>\n",
       "      <td>1</td>\n",
       "      <td>Красивая набережная с барельефами отражающими ...</td>\n",
       "      <td>27 февраля 2023 г.</td>\n",
       "      <td>0.0</td>\n",
       "      <td>5.0</td>\n",
       "      <td>[RU]</td>\n",
       "      <td>Интересно прогуляться</td>\n",
       "      <td>Пирсы и пляжные променады</td>\n",
       "    </tr>\n",
       "    <tr>\n",
       "      <th>1</th>\n",
       "      <td>1</td>\n",
       "      <td>Очень приятно прогуляться по набережной . Вече...</td>\n",
       "      <td>12 декабря 2022 г.</td>\n",
       "      <td>0.0</td>\n",
       "      <td>5.0</td>\n",
       "      <td>[RU]</td>\n",
       "      <td>Место для романтических поогулок</td>\n",
       "      <td>Пирсы и пляжные променады</td>\n",
       "    </tr>\n",
       "    <tr>\n",
       "      <th>2</th>\n",
       "      <td>1</td>\n",
       "      <td>Отличное место для отдыха, прогулок и даже зна...</td>\n",
       "      <td>16 ноября 2022 г.</td>\n",
       "      <td>0.0</td>\n",
       "      <td>5.0</td>\n",
       "      <td>[RU]</td>\n",
       "      <td>Концептуально-выдержанная идея вплоть до мелочей</td>\n",
       "      <td>Пирсы и пляжные променады</td>\n",
       "    </tr>\n",
       "    <tr>\n",
       "      <th>3</th>\n",
       "      <td>1</td>\n",
       "      <td>Красивая набережная, можно покататься на самок...</td>\n",
       "      <td>2 сентября 2022 г.</td>\n",
       "      <td>1.0</td>\n",
       "      <td>5.0</td>\n",
       "      <td>[RU]</td>\n",
       "      <td>Набережная в Тюмени</td>\n",
       "      <td>Пирсы и пляжные променады</td>\n",
       "    </tr>\n",
       "    <tr>\n",
       "      <th>4</th>\n",
       "      <td>1</td>\n",
       "      <td>Убрать всех приставучих предпринимателей! Приш...</td>\n",
       "      <td>27 июля 2022 г.</td>\n",
       "      <td>1.0</td>\n",
       "      <td>1.0</td>\n",
       "      <td>[С друзьями, RU]</td>\n",
       "      <td>Испортили хорошее место торгашами.</td>\n",
       "      <td>Пирсы и пляжные променады</td>\n",
       "    </tr>\n",
       "  </tbody>\n",
       "</table>\n",
       "</div>"
      ],
      "text/plain": [
       "   place_id                                        review_body  \\\n",
       "0         1  Красивая набережная с барельефами отражающими ...   \n",
       "1         1  Очень приятно прогуляться по набережной . Вече...   \n",
       "2         1  Отличное место для отдыха, прогулок и даже зна...   \n",
       "3         1  Красивая набережная, можно покататься на самок...   \n",
       "4         1  Убрать всех приставучих предпринимателей! Приш...   \n",
       "\n",
       "          review_date  review_likes  review_rating        review_tag  \\\n",
       "0  27 февраля 2023 г.           0.0            5.0              [RU]   \n",
       "1  12 декабря 2022 г.           0.0            5.0              [RU]   \n",
       "2   16 ноября 2022 г.           0.0            5.0              [RU]   \n",
       "3  2 сентября 2022 г.           1.0            5.0              [RU]   \n",
       "4     27 июля 2022 г.           1.0            1.0  [С друзьями, RU]   \n",
       "\n",
       "                                       review_title                        tag  \n",
       "0                             Интересно прогуляться  Пирсы и пляжные променады  \n",
       "1                  Место для романтических поогулок  Пирсы и пляжные променады  \n",
       "2  Концептуально-выдержанная идея вплоть до мелочей  Пирсы и пляжные променады  \n",
       "3                               Набережная в Тюмени  Пирсы и пляжные променады  \n",
       "4                Испортили хорошее место торгашами.  Пирсы и пляжные променады  "
      ]
     },
     "execution_count": 3,
     "metadata": {},
     "output_type": "execute_result"
    }
   ],
   "source": [
    "df.head()"
   ]
  },
  {
   "cell_type": "code",
   "execution_count": 4,
   "metadata": {},
   "outputs": [
    {
     "name": "stderr",
     "output_type": "stream",
     "text": [
      "Token indices sequence length is longer than the specified maximum sequence length for this model (543 > 512). Running this sequence through the model will result in indexing errors\n"
     ]
    }
   ],
   "source": [
    "proba = 0.0\n",
    "questions = [\n",
    "    \"Чем заняться?\", \n",
    "    \"Какой?\", \n",
    "    \"Когда?\", \n",
    "    \"Какие ощущения\", \n",
    "    \"Почему?\", \n",
    "    \"Для кого?\", \n",
    "    \"С кем?\",\n",
    "    \"Что?\",\n",
    "    \"Кому?\",\n",
    "    \"Для чего?\"\n",
    "]\n",
    "for question in questions:\n",
    "    df[question] = df.review_body.apply(model.get_tags, args=(question, 0.0))"
   ]
  },
  {
   "cell_type": "code",
   "execution_count": 8,
   "metadata": {},
   "outputs": [],
   "source": [
    "questions = df.iloc[:,8:].copy()"
   ]
  },
  {
   "cell_type": "code",
   "execution_count": 59,
   "metadata": {},
   "outputs": [],
   "source": [
    "def choose_list(list_data, col):\n",
    "    try:\n",
    "        return list(list_data[col])\n",
    "    except:\n",
    "        pass\n",
    "\n",
    "\n",
    "questions_data = pd.DataFrame()\n",
    "for question in questions.columns:\n",
    "    questions_data[question+\"_data\"] = questions[question].apply(choose_list, args=[0])\n",
    "    questions_data[question+\"_proba\"] = questions[question].apply(choose_list, args=[1])"
   ]
  },
  {
   "cell_type": "code",
   "execution_count": 60,
   "metadata": {},
   "outputs": [],
   "source": [
    "data = df.iloc[:,:8].join(questions_data)"
   ]
  },
  {
   "cell_type": "code",
   "execution_count": 62,
   "metadata": {},
   "outputs": [],
   "source": [
    "data.to_parquet(\"./data/prepared_data/df_tagged.parquet\")"
   ]
  },
  {
   "cell_type": "code",
   "execution_count": 63,
   "metadata": {},
   "outputs": [
    {
     "data": {
      "text/html": [
       "<div>\n",
       "<style scoped>\n",
       "    .dataframe tbody tr th:only-of-type {\n",
       "        vertical-align: middle;\n",
       "    }\n",
       "\n",
       "    .dataframe tbody tr th {\n",
       "        vertical-align: top;\n",
       "    }\n",
       "\n",
       "    .dataframe thead th {\n",
       "        text-align: right;\n",
       "    }\n",
       "</style>\n",
       "<table border=\"1\" class=\"dataframe\">\n",
       "  <thead>\n",
       "    <tr style=\"text-align: right;\">\n",
       "      <th></th>\n",
       "      <th>Unnamed: 0</th>\n",
       "      <th>place_id</th>\n",
       "      <th>review_body</th>\n",
       "      <th>review_date</th>\n",
       "      <th>review_likes</th>\n",
       "      <th>review_rating</th>\n",
       "      <th>review_tag</th>\n",
       "      <th>review_title</th>\n",
       "      <th>Чем заняться?_data</th>\n",
       "      <th>Чем заняться?_proba</th>\n",
       "      <th>...</th>\n",
       "      <th>Для кого?_data</th>\n",
       "      <th>Для кого?_proba</th>\n",
       "      <th>С кем?_data</th>\n",
       "      <th>С кем?_proba</th>\n",
       "      <th>Что?_data</th>\n",
       "      <th>Что?_proba</th>\n",
       "      <th>Кому?_data</th>\n",
       "      <th>Кому?_proba</th>\n",
       "      <th>Для чего?_data</th>\n",
       "      <th>Для чего?_proba</th>\n",
       "    </tr>\n",
       "  </thead>\n",
       "  <tbody>\n",
       "    <tr>\n",
       "      <th>0</th>\n",
       "      <td>0</td>\n",
       "      <td>1</td>\n",
       "      <td>Красивая набережная с барельефами отражающими ...</td>\n",
       "      <td>27 февраля 2023 г.</td>\n",
       "      <td>0.0</td>\n",
       "      <td>5.0</td>\n",
       "      <td>['RU']</td>\n",
       "      <td>Интересно прогуляться</td>\n",
       "      <td>[посмотреть, соревнования, погулять]</td>\n",
       "      <td>[0.369, 0.701]</td>\n",
       "      <td>...</td>\n",
       "      <td>[фристайла сноуборда]</td>\n",
       "      <td>[0.613, 0.797]</td>\n",
       "      <td>None</td>\n",
       "      <td>None</td>\n",
       "      <td>[красивая набережная барельефами отражающими и...</td>\n",
       "      <td>[0.426, 0.307]</td>\n",
       "      <td>[посмотреть, соревнования, погулять]</td>\n",
       "      <td>[0.448, 0.234]</td>\n",
       "      <td>None</td>\n",
       "      <td>None</td>\n",
       "    </tr>\n",
       "    <tr>\n",
       "      <th>1</th>\n",
       "      <td>1</td>\n",
       "      <td>1</td>\n",
       "      <td>Очень приятно прогуляться по набережной . Вече...</td>\n",
       "      <td>12 декабря 2022 г.</td>\n",
       "      <td>0.0</td>\n",
       "      <td>5.0</td>\n",
       "      <td>['RU']</td>\n",
       "      <td>Место для романтических поогулок</td>\n",
       "      <td>[детям классно погонять на самокатах]</td>\n",
       "      <td>[0.418, 0.661]</td>\n",
       "      <td>...</td>\n",
       "      <td>[ребёнок]</td>\n",
       "      <td>[0.957, 0.479]</td>\n",
       "      <td>[детям классно погонять на самокатах]</td>\n",
       "      <td>[0.888, 0.48]</td>\n",
       "      <td>None</td>\n",
       "      <td>None</td>\n",
       "      <td>[ребёнок]</td>\n",
       "      <td>[0.978, 0.69]</td>\n",
       "      <td>[детям классно погонять на самокатах]</td>\n",
       "      <td>[0.617, 0.504]</td>\n",
       "    </tr>\n",
       "    <tr>\n",
       "      <th>2</th>\n",
       "      <td>2</td>\n",
       "      <td>1</td>\n",
       "      <td>Отличное место для отдыха, прогулок и даже зна...</td>\n",
       "      <td>16 ноября 2022 г.</td>\n",
       "      <td>0.0</td>\n",
       "      <td>5.0</td>\n",
       "      <td>['RU']</td>\n",
       "      <td>Концептуально-выдержанная идея вплоть до мелочей</td>\n",
       "      <td>[отдых, прогулка]</td>\n",
       "      <td>[0.264, 0.461]</td>\n",
       "      <td>...</td>\n",
       "      <td>None</td>\n",
       "      <td>None</td>\n",
       "      <td>None</td>\n",
       "      <td>None</td>\n",
       "      <td>None</td>\n",
       "      <td>None</td>\n",
       "      <td>[отдых, прогулка]</td>\n",
       "      <td>[0.537, 0.32]</td>\n",
       "      <td>None</td>\n",
       "      <td>None</td>\n",
       "    </tr>\n",
       "    <tr>\n",
       "      <th>3</th>\n",
       "      <td>3</td>\n",
       "      <td>1</td>\n",
       "      <td>Красивая набережная, можно покататься на самок...</td>\n",
       "      <td>2 сентября 2022 г.</td>\n",
       "      <td>1.0</td>\n",
       "      <td>5.0</td>\n",
       "      <td>['RU']</td>\n",
       "      <td>Набережная в Тюмени</td>\n",
       "      <td>[покататься на самокате]</td>\n",
       "      <td>[0.514, 0.844]</td>\n",
       "      <td>...</td>\n",
       "      <td>[гуляет народу]</td>\n",
       "      <td>[0.712, 0.821]</td>\n",
       "      <td>[гуляет народу]</td>\n",
       "      <td>[0.67, 0.494]</td>\n",
       "      <td>[красивая набережная]</td>\n",
       "      <td>[0.906, 0.532]</td>\n",
       "      <td>[гуляет народу]</td>\n",
       "      <td>[0.664, 0.888]</td>\n",
       "      <td>[покататься на самокате]</td>\n",
       "      <td>[0.527, 0.385]</td>\n",
       "    </tr>\n",
       "    <tr>\n",
       "      <th>4</th>\n",
       "      <td>4</td>\n",
       "      <td>1</td>\n",
       "      <td>Убрать всех приставучих предпринимателей! Приш...</td>\n",
       "      <td>27 июля 2022 г.</td>\n",
       "      <td>1.0</td>\n",
       "      <td>1.0</td>\n",
       "      <td>['С друзьями' 'RU']</td>\n",
       "      <td>Испортили хорошее место торгашами.</td>\n",
       "      <td>None</td>\n",
       "      <td>None</td>\n",
       "      <td>...</td>\n",
       "      <td>[убрать приставучих предпринимателей]</td>\n",
       "      <td>[0.853, 0.737]</td>\n",
       "      <td>[мадам питоном]</td>\n",
       "      <td>[0.494, 0.774]</td>\n",
       "      <td>[убрать приставучих предпринимателей]</td>\n",
       "      <td>[0.573, 0.531]</td>\n",
       "      <td>[убрать приставучих предпринимателей]</td>\n",
       "      <td>[0.725, 0.7]</td>\n",
       "      <td>[убрать приставучих предпринимателей]</td>\n",
       "      <td>[0.962, 0.678]</td>\n",
       "    </tr>\n",
       "  </tbody>\n",
       "</table>\n",
       "<p>5 rows × 28 columns</p>\n",
       "</div>"
      ],
      "text/plain": [
       "   Unnamed: 0  place_id                                        review_body  \\\n",
       "0           0         1  Красивая набережная с барельефами отражающими ...   \n",
       "1           1         1  Очень приятно прогуляться по набережной . Вече...   \n",
       "2           2         1  Отличное место для отдыха, прогулок и даже зна...   \n",
       "3           3         1  Красивая набережная, можно покататься на самок...   \n",
       "4           4         1  Убрать всех приставучих предпринимателей! Приш...   \n",
       "\n",
       "          review_date  review_likes  review_rating           review_tag  \\\n",
       "0  27 февраля 2023 г.           0.0            5.0               ['RU']   \n",
       "1  12 декабря 2022 г.           0.0            5.0               ['RU']   \n",
       "2   16 ноября 2022 г.           0.0            5.0               ['RU']   \n",
       "3  2 сентября 2022 г.           1.0            5.0               ['RU']   \n",
       "4     27 июля 2022 г.           1.0            1.0  ['С друзьями' 'RU']   \n",
       "\n",
       "                                       review_title  \\\n",
       "0                             Интересно прогуляться   \n",
       "1                  Место для романтических поогулок   \n",
       "2  Концептуально-выдержанная идея вплоть до мелочей   \n",
       "3                               Набережная в Тюмени   \n",
       "4                Испортили хорошее место торгашами.   \n",
       "\n",
       "                      Чем заняться?_data Чем заняться?_proba  ...  \\\n",
       "0   [посмотреть, соревнования, погулять]      [0.369, 0.701]  ...   \n",
       "1  [детям классно погонять на самокатах]      [0.418, 0.661]  ...   \n",
       "2                      [отдых, прогулка]      [0.264, 0.461]  ...   \n",
       "3               [покататься на самокате]      [0.514, 0.844]  ...   \n",
       "4                                   None                None  ...   \n",
       "\n",
       "                          Для кого?_data Для кого?_proba  \\\n",
       "0                  [фристайла сноуборда]  [0.613, 0.797]   \n",
       "1                              [ребёнок]  [0.957, 0.479]   \n",
       "2                                   None            None   \n",
       "3                        [гуляет народу]  [0.712, 0.821]   \n",
       "4  [убрать приставучих предпринимателей]  [0.853, 0.737]   \n",
       "\n",
       "                             С кем?_data    С кем?_proba  \\\n",
       "0                                   None            None   \n",
       "1  [детям классно погонять на самокатах]   [0.888, 0.48]   \n",
       "2                                   None            None   \n",
       "3                        [гуляет народу]   [0.67, 0.494]   \n",
       "4                        [мадам питоном]  [0.494, 0.774]   \n",
       "\n",
       "                                           Что?_data      Что?_proba  \\\n",
       "0  [красивая набережная барельефами отражающими и...  [0.426, 0.307]   \n",
       "1                                               None            None   \n",
       "2                                               None            None   \n",
       "3                              [красивая набережная]  [0.906, 0.532]   \n",
       "4              [убрать приставучих предпринимателей]  [0.573, 0.531]   \n",
       "\n",
       "                              Кому?_data     Кому?_proba  \\\n",
       "0   [посмотреть, соревнования, погулять]  [0.448, 0.234]   \n",
       "1                              [ребёнок]   [0.978, 0.69]   \n",
       "2                      [отдых, прогулка]   [0.537, 0.32]   \n",
       "3                        [гуляет народу]  [0.664, 0.888]   \n",
       "4  [убрать приставучих предпринимателей]    [0.725, 0.7]   \n",
       "\n",
       "                          Для чего?_data Для чего?_proba  \n",
       "0                                   None            None  \n",
       "1  [детям классно погонять на самокатах]  [0.617, 0.504]  \n",
       "2                                   None            None  \n",
       "3               [покататься на самокате]  [0.527, 0.385]  \n",
       "4  [убрать приставучих предпринимателей]  [0.962, 0.678]  \n",
       "\n",
       "[5 rows x 28 columns]"
      ]
     },
     "execution_count": 63,
     "metadata": {},
     "output_type": "execute_result"
    }
   ],
   "source": [
    "data.head()"
   ]
  },
  {
   "cell_type": "code",
   "execution_count": null,
   "metadata": {},
   "outputs": [],
   "source": []
  }
 ],
 "metadata": {
  "kernelspec": {
   "display_name": ".venv",
   "language": "python",
   "name": "python3"
  },
  "language_info": {
   "codemirror_mode": {
    "name": "ipython",
    "version": 3
   },
   "file_extension": ".py",
   "mimetype": "text/x-python",
   "name": "python",
   "nbconvert_exporter": "python",
   "pygments_lexer": "ipython3",
   "version": "3.10.6"
  },
  "orig_nbformat": 4
 },
 "nbformat": 4,
 "nbformat_minor": 2
}
