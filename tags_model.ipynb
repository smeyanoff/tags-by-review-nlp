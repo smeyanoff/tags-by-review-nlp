{
 "cells": [
  {
   "cell_type": "code",
   "execution_count": 1,
   "metadata": {},
   "outputs": [],
   "source": [
    "import pandas as pd\n",
    "import numpy as np\n",
    "\n",
    "from utils.data_utils import DataUtils"
   ]
  },
  {
   "cell_type": "code",
   "execution_count": 2,
   "metadata": {},
   "outputs": [],
   "source": [
    "pd.set_option(\"display.max_columns\", 20)\n",
    "pd.set_option(\"display.max_rows\", 20)\n",
    "pd.set_option(\"display.max_colwidth\", 100)"
   ]
  },
  {
   "attachments": {},
   "cell_type": "markdown",
   "metadata": {},
   "source": [
    "----"
   ]
  },
  {
   "attachments": {},
   "cell_type": "markdown",
   "metadata": {},
   "source": [
    "#### Download data"
   ]
  },
  {
   "cell_type": "code",
   "execution_count": 11,
   "metadata": {},
   "outputs": [
    {
     "ename": "OSError",
     "evalue": "Cannot save file into a non-existent directory: 'data/initial_data'",
     "output_type": "error",
     "traceback": [
      "\u001b[0;31m---------------------------------------------------------------------------\u001b[0m",
      "\u001b[0;31mOSError\u001b[0m                                   Traceback (most recent call last)",
      "Cell \u001b[0;32mIn[11], line 1\u001b[0m\n\u001b[0;32m----> 1\u001b[0m DataUtils\u001b[39m.\u001b[39;49mdownload_data(\u001b[39m\"\u001b[39;49m\u001b[39msql/select_comments.sql\u001b[39;49m\u001b[39m\"\u001b[39;49m)\n",
      "File \u001b[0;32m~/projects/lewart_tags_model/utils/data_utils.py:32\u001b[0m, in \u001b[0;36mDataUtils.download_data\u001b[0;34m(download_script_path)\u001b[0m\n\u001b[1;32m     29\u001b[0m \u001b[39mwith\u001b[39;00m \u001b[39mopen\u001b[39m(download_script_path, \u001b[39m\"\u001b[39m\u001b[39mr\u001b[39m\u001b[39m\"\u001b[39m) \u001b[39mas\u001b[39;00m query:\n\u001b[1;32m     30\u001b[0m     comments \u001b[39m=\u001b[39m read_sql_query(query\u001b[39m.\u001b[39mread(), engine)\n\u001b[0;32m---> 32\u001b[0m comments\u001b[39m.\u001b[39;49mto_parquet(\n\u001b[1;32m     33\u001b[0m     PurePath(\n\u001b[1;32m     34\u001b[0m         os\u001b[39m.\u001b[39;49menviron\u001b[39m.\u001b[39;49mget(\u001b[39m\"\u001b[39;49m\u001b[39mINITIAL_DATA_PATH\u001b[39;49m\u001b[39m\"\u001b[39;49m), \n\u001b[1;32m     35\u001b[0m         \u001b[39mf\u001b[39;49m\u001b[39m'\u001b[39;49m\u001b[39m{\u001b[39;49;00mos\u001b[39m.\u001b[39;49menviron\u001b[39m.\u001b[39;49mget(\u001b[39m\"\u001b[39;49m\u001b[39mOUTPUT_FILE_NAME\u001b[39;49m\u001b[39m\"\u001b[39;49m)\u001b[39m}\u001b[39;49;00m\u001b[39m.parquet\u001b[39;49m\u001b[39m'\u001b[39;49m\n\u001b[1;32m     36\u001b[0m     )\n\u001b[1;32m     37\u001b[0m )\n",
      "File \u001b[0;32m~/.cache/pypoetry/virtualenvs/lewart-tags-model-dMjvlOT--py3.10/lib/python3.10/site-packages/pandas/core/frame.py:2889\u001b[0m, in \u001b[0;36mDataFrame.to_parquet\u001b[0;34m(self, path, engine, compression, index, partition_cols, storage_options, **kwargs)\u001b[0m\n\u001b[1;32m   2802\u001b[0m \u001b[39m\u001b[39m\u001b[39m\"\"\"\u001b[39;00m\n\u001b[1;32m   2803\u001b[0m \u001b[39mWrite a DataFrame to the binary parquet format.\u001b[39;00m\n\u001b[1;32m   2804\u001b[0m \n\u001b[0;32m   (...)\u001b[0m\n\u001b[1;32m   2885\u001b[0m \u001b[39m>>> content = f.read()\u001b[39;00m\n\u001b[1;32m   2886\u001b[0m \u001b[39m\"\"\"\u001b[39;00m\n\u001b[1;32m   2887\u001b[0m \u001b[39mfrom\u001b[39;00m \u001b[39mpandas\u001b[39;00m\u001b[39m.\u001b[39;00m\u001b[39mio\u001b[39;00m\u001b[39m.\u001b[39;00m\u001b[39mparquet\u001b[39;00m \u001b[39mimport\u001b[39;00m to_parquet\n\u001b[0;32m-> 2889\u001b[0m \u001b[39mreturn\u001b[39;00m to_parquet(\n\u001b[1;32m   2890\u001b[0m     \u001b[39mself\u001b[39;49m,\n\u001b[1;32m   2891\u001b[0m     path,\n\u001b[1;32m   2892\u001b[0m     engine,\n\u001b[1;32m   2893\u001b[0m     compression\u001b[39m=\u001b[39;49mcompression,\n\u001b[1;32m   2894\u001b[0m     index\u001b[39m=\u001b[39;49mindex,\n\u001b[1;32m   2895\u001b[0m     partition_cols\u001b[39m=\u001b[39;49mpartition_cols,\n\u001b[1;32m   2896\u001b[0m     storage_options\u001b[39m=\u001b[39;49mstorage_options,\n\u001b[1;32m   2897\u001b[0m     \u001b[39m*\u001b[39;49m\u001b[39m*\u001b[39;49mkwargs,\n\u001b[1;32m   2898\u001b[0m )\n",
      "File \u001b[0;32m~/.cache/pypoetry/virtualenvs/lewart-tags-model-dMjvlOT--py3.10/lib/python3.10/site-packages/pandas/io/parquet.py:411\u001b[0m, in \u001b[0;36mto_parquet\u001b[0;34m(df, path, engine, compression, index, storage_options, partition_cols, **kwargs)\u001b[0m\n\u001b[1;32m    407\u001b[0m impl \u001b[39m=\u001b[39m get_engine(engine)\n\u001b[1;32m    409\u001b[0m path_or_buf: FilePath \u001b[39m|\u001b[39m WriteBuffer[\u001b[39mbytes\u001b[39m] \u001b[39m=\u001b[39m io\u001b[39m.\u001b[39mBytesIO() \u001b[39mif\u001b[39;00m path \u001b[39mis\u001b[39;00m \u001b[39mNone\u001b[39;00m \u001b[39melse\u001b[39;00m path\n\u001b[0;32m--> 411\u001b[0m impl\u001b[39m.\u001b[39;49mwrite(\n\u001b[1;32m    412\u001b[0m     df,\n\u001b[1;32m    413\u001b[0m     path_or_buf,\n\u001b[1;32m    414\u001b[0m     compression\u001b[39m=\u001b[39;49mcompression,\n\u001b[1;32m    415\u001b[0m     index\u001b[39m=\u001b[39;49mindex,\n\u001b[1;32m    416\u001b[0m     partition_cols\u001b[39m=\u001b[39;49mpartition_cols,\n\u001b[1;32m    417\u001b[0m     storage_options\u001b[39m=\u001b[39;49mstorage_options,\n\u001b[1;32m    418\u001b[0m     \u001b[39m*\u001b[39;49m\u001b[39m*\u001b[39;49mkwargs,\n\u001b[1;32m    419\u001b[0m )\n\u001b[1;32m    421\u001b[0m \u001b[39mif\u001b[39;00m path \u001b[39mis\u001b[39;00m \u001b[39mNone\u001b[39;00m:\n\u001b[1;32m    422\u001b[0m     \u001b[39massert\u001b[39;00m \u001b[39misinstance\u001b[39m(path_or_buf, io\u001b[39m.\u001b[39mBytesIO)\n",
      "File \u001b[0;32m~/.cache/pypoetry/virtualenvs/lewart-tags-model-dMjvlOT--py3.10/lib/python3.10/site-packages/pandas/io/parquet.py:161\u001b[0m, in \u001b[0;36mPyArrowImpl.write\u001b[0;34m(self, df, path, compression, index, storage_options, partition_cols, **kwargs)\u001b[0m\n\u001b[1;32m    157\u001b[0m     from_pandas_kwargs[\u001b[39m\"\u001b[39m\u001b[39mpreserve_index\u001b[39m\u001b[39m\"\u001b[39m] \u001b[39m=\u001b[39m index\n\u001b[1;32m    159\u001b[0m table \u001b[39m=\u001b[39m \u001b[39mself\u001b[39m\u001b[39m.\u001b[39mapi\u001b[39m.\u001b[39mTable\u001b[39m.\u001b[39mfrom_pandas(df, \u001b[39m*\u001b[39m\u001b[39m*\u001b[39mfrom_pandas_kwargs)\n\u001b[0;32m--> 161\u001b[0m path_or_handle, handles, kwargs[\u001b[39m\"\u001b[39m\u001b[39mfilesystem\u001b[39m\u001b[39m\"\u001b[39m] \u001b[39m=\u001b[39m _get_path_or_handle(\n\u001b[1;32m    162\u001b[0m     path,\n\u001b[1;32m    163\u001b[0m     kwargs\u001b[39m.\u001b[39;49mpop(\u001b[39m\"\u001b[39;49m\u001b[39mfilesystem\u001b[39;49m\u001b[39m\"\u001b[39;49m, \u001b[39mNone\u001b[39;49;00m),\n\u001b[1;32m    164\u001b[0m     storage_options\u001b[39m=\u001b[39;49mstorage_options,\n\u001b[1;32m    165\u001b[0m     mode\u001b[39m=\u001b[39;49m\u001b[39m\"\u001b[39;49m\u001b[39mwb\u001b[39;49m\u001b[39m\"\u001b[39;49m,\n\u001b[1;32m    166\u001b[0m     is_dir\u001b[39m=\u001b[39;49mpartition_cols \u001b[39mis\u001b[39;49;00m \u001b[39mnot\u001b[39;49;00m \u001b[39mNone\u001b[39;49;00m,\n\u001b[1;32m    167\u001b[0m )\n\u001b[1;32m    168\u001b[0m \u001b[39mif\u001b[39;00m (\n\u001b[1;32m    169\u001b[0m     \u001b[39misinstance\u001b[39m(path_or_handle, io\u001b[39m.\u001b[39mBufferedWriter)\n\u001b[1;32m    170\u001b[0m     \u001b[39mand\u001b[39;00m \u001b[39mhasattr\u001b[39m(path_or_handle, \u001b[39m\"\u001b[39m\u001b[39mname\u001b[39m\u001b[39m\"\u001b[39m)\n\u001b[1;32m    171\u001b[0m     \u001b[39mand\u001b[39;00m \u001b[39misinstance\u001b[39m(path_or_handle\u001b[39m.\u001b[39mname, (\u001b[39mstr\u001b[39m, \u001b[39mbytes\u001b[39m))\n\u001b[1;32m    172\u001b[0m ):\n\u001b[1;32m    173\u001b[0m     path_or_handle \u001b[39m=\u001b[39m path_or_handle\u001b[39m.\u001b[39mname\n",
      "File \u001b[0;32m~/.cache/pypoetry/virtualenvs/lewart-tags-model-dMjvlOT--py3.10/lib/python3.10/site-packages/pandas/io/parquet.py:110\u001b[0m, in \u001b[0;36m_get_path_or_handle\u001b[0;34m(path, fs, storage_options, mode, is_dir)\u001b[0m\n\u001b[1;32m    100\u001b[0m handles \u001b[39m=\u001b[39m \u001b[39mNone\u001b[39;00m\n\u001b[1;32m    101\u001b[0m \u001b[39mif\u001b[39;00m (\n\u001b[1;32m    102\u001b[0m     \u001b[39mnot\u001b[39;00m fs\n\u001b[1;32m    103\u001b[0m     \u001b[39mand\u001b[39;00m \u001b[39mnot\u001b[39;00m is_dir\n\u001b[0;32m   (...)\u001b[0m\n\u001b[1;32m    108\u001b[0m     \u001b[39m# fsspec resources can also point to directories\u001b[39;00m\n\u001b[1;32m    109\u001b[0m     \u001b[39m# this branch is used for example when reading from non-fsspec URLs\u001b[39;00m\n\u001b[0;32m--> 110\u001b[0m     handles \u001b[39m=\u001b[39m get_handle(\n\u001b[1;32m    111\u001b[0m         path_or_handle, mode, is_text\u001b[39m=\u001b[39;49m\u001b[39mFalse\u001b[39;49;00m, storage_options\u001b[39m=\u001b[39;49mstorage_options\n\u001b[1;32m    112\u001b[0m     )\n\u001b[1;32m    113\u001b[0m     fs \u001b[39m=\u001b[39m \u001b[39mNone\u001b[39;00m\n\u001b[1;32m    114\u001b[0m     path_or_handle \u001b[39m=\u001b[39m handles\u001b[39m.\u001b[39mhandle\n",
      "File \u001b[0;32m~/.cache/pypoetry/virtualenvs/lewart-tags-model-dMjvlOT--py3.10/lib/python3.10/site-packages/pandas/io/common.py:737\u001b[0m, in \u001b[0;36mget_handle\u001b[0;34m(path_or_buf, mode, encoding, compression, memory_map, is_text, errors, storage_options)\u001b[0m\n\u001b[1;32m    735\u001b[0m \u001b[39m# Only for write methods\u001b[39;00m\n\u001b[1;32m    736\u001b[0m \u001b[39mif\u001b[39;00m \u001b[39m\"\u001b[39m\u001b[39mr\u001b[39m\u001b[39m\"\u001b[39m \u001b[39mnot\u001b[39;00m \u001b[39min\u001b[39;00m mode \u001b[39mand\u001b[39;00m is_path:\n\u001b[0;32m--> 737\u001b[0m     check_parent_directory(\u001b[39mstr\u001b[39;49m(handle))\n\u001b[1;32m    739\u001b[0m \u001b[39mif\u001b[39;00m compression:\n\u001b[1;32m    740\u001b[0m     \u001b[39mif\u001b[39;00m compression \u001b[39m!=\u001b[39m \u001b[39m\"\u001b[39m\u001b[39mzstd\u001b[39m\u001b[39m\"\u001b[39m:\n\u001b[1;32m    741\u001b[0m         \u001b[39m# compression libraries do not like an explicit text-mode\u001b[39;00m\n",
      "File \u001b[0;32m~/.cache/pypoetry/virtualenvs/lewart-tags-model-dMjvlOT--py3.10/lib/python3.10/site-packages/pandas/io/common.py:600\u001b[0m, in \u001b[0;36mcheck_parent_directory\u001b[0;34m(path)\u001b[0m\n\u001b[1;32m    598\u001b[0m parent \u001b[39m=\u001b[39m Path(path)\u001b[39m.\u001b[39mparent\n\u001b[1;32m    599\u001b[0m \u001b[39mif\u001b[39;00m \u001b[39mnot\u001b[39;00m parent\u001b[39m.\u001b[39mis_dir():\n\u001b[0;32m--> 600\u001b[0m     \u001b[39mraise\u001b[39;00m \u001b[39mOSError\u001b[39;00m(\u001b[39mrf\u001b[39m\u001b[39m\"\u001b[39m\u001b[39mCannot save file into a non-existent directory: \u001b[39m\u001b[39m'\u001b[39m\u001b[39m{\u001b[39;00mparent\u001b[39m}\u001b[39;00m\u001b[39m'\u001b[39m\u001b[39m\"\u001b[39m)\n",
      "\u001b[0;31mOSError\u001b[0m: Cannot save file into a non-existent directory: 'data/initial_data'"
     ]
    }
   ],
   "source": [
    "DataUtils.download_data(\"sql/select_comments.sql\")"
   ]
  },
  {
   "cell_type": "code",
   "execution_count": 14,
   "metadata": {},
   "outputs": [],
   "source": [
    "with open(\"./sql/select_comments.sql\", \"r\") as query:\n",
    "    comments = pd.read_sql_query(query.read(), engine)"
   ]
  },
  {
   "cell_type": "code",
   "execution_count": 15,
   "metadata": {},
   "outputs": [],
   "source": [
    "comments.query(\"not comment.isna() & not place_id.isna()\", inplace=True)"
   ]
  },
  {
   "cell_type": "code",
   "execution_count": 16,
   "metadata": {},
   "outputs": [],
   "source": [
    "with open(\"./sql/select_tags.sql\", \"r\") as query:\n",
    "    tags = pd.read_sql_query(query.read(), engine)"
   ]
  },
  {
   "cell_type": "code",
   "execution_count": 17,
   "metadata": {},
   "outputs": [],
   "source": [
    "df = pd.DataFrame().from_records(comments.comment.values)"
   ]
  },
  {
   "cell_type": "code",
   "execution_count": 18,
   "metadata": {},
   "outputs": [],
   "source": [
    "df.insert(0, \"place_id\", comments.place_id.values)"
   ]
  },
  {
   "cell_type": "code",
   "execution_count": 19,
   "metadata": {},
   "outputs": [],
   "source": [
    "df = df.merge(tags, left_on=\"place_id\", right_on=\"place_id\", how=\"left\")"
   ]
  },
  {
   "cell_type": "code",
   "execution_count": 20,
   "metadata": {},
   "outputs": [],
   "source": [
    "df.drop(\"id\", axis=1, inplace=True)"
   ]
  },
  {
   "cell_type": "code",
   "execution_count": 23,
   "metadata": {},
   "outputs": [],
   "source": [
    "df.to_csv(PurePath(config.get('INITIAL_DATA_PATH'), \"comments_df.csv\"))"
   ]
  },
  {
   "attachments": {},
   "cell_type": "markdown",
   "metadata": {},
   "source": [
    "-----"
   ]
  },
  {
   "attachments": {},
   "cell_type": "markdown",
   "metadata": {},
   "source": [
    "### Making bi-gram`s"
   ]
  },
  {
   "cell_type": "code",
   "execution_count": 33,
   "metadata": {},
   "outputs": [],
   "source": [
    "data = pd.read_csv(PurePath(config.get('INITIAL_DATA_PATH'), \"comments_df.csv\"), index_col=0)"
   ]
  },
  {
   "cell_type": "code",
   "execution_count": 34,
   "metadata": {},
   "outputs": [],
   "source": [
    "tags = data.tag.unique()"
   ]
  },
  {
   "cell_type": "code",
   "execution_count": 217,
   "metadata": {},
   "outputs": [
    {
     "data": {
      "text/html": [
       "<div>\n",
       "<style scoped>\n",
       "    .dataframe tbody tr th:only-of-type {\n",
       "        vertical-align: middle;\n",
       "    }\n",
       "\n",
       "    .dataframe tbody tr th {\n",
       "        vertical-align: top;\n",
       "    }\n",
       "\n",
       "    .dataframe thead th {\n",
       "        text-align: right;\n",
       "    }\n",
       "</style>\n",
       "<table border=\"1\" class=\"dataframe\">\n",
       "  <thead>\n",
       "    <tr style=\"text-align: right;\">\n",
       "      <th></th>\n",
       "      <th>place_id</th>\n",
       "      <th>review_title</th>\n",
       "      <th>review_body</th>\n",
       "      <th>review_date</th>\n",
       "      <th>review_rating</th>\n",
       "      <th>review_likes</th>\n",
       "      <th>review_tag</th>\n",
       "      <th>tag</th>\n",
       "    </tr>\n",
       "  </thead>\n",
       "  <tbody>\n",
       "    <tr>\n",
       "      <th>0</th>\n",
       "      <td>1</td>\n",
       "      <td>Интересно прогуляться</td>\n",
       "      <td>Красивая набережная с барельефами отражающими историю города Тюмень Красивые виды Зимой строят с...</td>\n",
       "      <td>27 февраля 2023 г.</td>\n",
       "      <td>5.0</td>\n",
       "      <td>0</td>\n",
       "      <td>['RU']</td>\n",
       "      <td>Пирсы и пляжные променады</td>\n",
       "    </tr>\n",
       "    <tr>\n",
       "      <th>1</th>\n",
       "      <td>1</td>\n",
       "      <td>Место для романтических поогулок</td>\n",
       "      <td>Очень приятно прогуляться по набережной . Вечером красиво подсвечивается Мост Влюбленных и Кремл...</td>\n",
       "      <td>12 декабря 2022 г.</td>\n",
       "      <td>5.0</td>\n",
       "      <td>0</td>\n",
       "      <td>['RU']</td>\n",
       "      <td>Пирсы и пляжные променады</td>\n",
       "    </tr>\n",
       "    <tr>\n",
       "      <th>2</th>\n",
       "      <td>1</td>\n",
       "      <td>Концептуально-выдержанная идея вплоть до мелочей</td>\n",
       "      <td>Отличное место для отдыха, прогулок и даже знакомства с историей города и Сибири. Очень круто, ч...</td>\n",
       "      <td>16 ноября 2022 г.</td>\n",
       "      <td>5.0</td>\n",
       "      <td>0</td>\n",
       "      <td>['RU']</td>\n",
       "      <td>Пирсы и пляжные променады</td>\n",
       "    </tr>\n",
       "    <tr>\n",
       "      <th>3</th>\n",
       "      <td>1</td>\n",
       "      <td>Набережная в Тюмени</td>\n",
       "      <td>Красивая набережная, можно покататься на самокате, гуляет много народу, мост влюбленных вечером ...</td>\n",
       "      <td>2 сентября 2022 г.</td>\n",
       "      <td>5.0</td>\n",
       "      <td>1</td>\n",
       "      <td>['RU']</td>\n",
       "      <td>Пирсы и пляжные променады</td>\n",
       "    </tr>\n",
       "    <tr>\n",
       "      <th>4</th>\n",
       "      <td>1</td>\n",
       "      <td>Испортили хорошее место торгашами.</td>\n",
       "      <td>Убрать всех приставучих предпринимателей! Пришли погулять вечером, отдохнуть, а там мадам с пито...</td>\n",
       "      <td>27 июля 2022 г.</td>\n",
       "      <td>1.0</td>\n",
       "      <td>1</td>\n",
       "      <td>['С друзьями', 'RU']</td>\n",
       "      <td>Пирсы и пляжные променады</td>\n",
       "    </tr>\n",
       "  </tbody>\n",
       "</table>\n",
       "</div>"
      ],
      "text/plain": [
       "   place_id                                      review_title   \n",
       "0         1                             Интересно прогуляться  \\\n",
       "1         1                  Место для романтических поогулок   \n",
       "2         1  Концептуально-выдержанная идея вплоть до мелочей   \n",
       "3         1                               Набережная в Тюмени   \n",
       "4         1                Испортили хорошее место торгашами.   \n",
       "\n",
       "                                                                                           review_body   \n",
       "0  Красивая набережная с барельефами отражающими историю города Тюмень Красивые виды Зимой строят с...  \\\n",
       "1  Очень приятно прогуляться по набережной . Вечером красиво подсвечивается Мост Влюбленных и Кремл...   \n",
       "2  Отличное место для отдыха, прогулок и даже знакомства с историей города и Сибири. Очень круто, ч...   \n",
       "3  Красивая набережная, можно покататься на самокате, гуляет много народу, мост влюбленных вечером ...   \n",
       "4  Убрать всех приставучих предпринимателей! Пришли погулять вечером, отдохнуть, а там мадам с пито...   \n",
       "\n",
       "          review_date  review_rating  review_likes            review_tag   \n",
       "0  27 февраля 2023 г.            5.0             0                ['RU']  \\\n",
       "1  12 декабря 2022 г.            5.0             0                ['RU']   \n",
       "2   16 ноября 2022 г.            5.0             0                ['RU']   \n",
       "3  2 сентября 2022 г.            5.0             1                ['RU']   \n",
       "4     27 июля 2022 г.            1.0             1  ['С друзьями', 'RU']   \n",
       "\n",
       "                         tag  \n",
       "0  Пирсы и пляжные променады  \n",
       "1  Пирсы и пляжные променады  \n",
       "2  Пирсы и пляжные променады  \n",
       "3  Пирсы и пляжные променады  \n",
       "4  Пирсы и пляжные променады  "
      ]
     },
     "execution_count": 217,
     "metadata": {},
     "output_type": "execute_result"
    }
   ],
   "source": [
    "data.head()"
   ]
  },
  {
   "attachments": {},
   "cell_type": "markdown",
   "metadata": {},
   "source": [
    "---"
   ]
  },
  {
   "cell_type": "code",
   "execution_count": 42,
   "metadata": {},
   "outputs": [],
   "source": [
    "import re "
   ]
  },
  {
   "cell_type": "code",
   "execution_count": 85,
   "metadata": {},
   "outputs": [],
   "source": [
    "adjective = r\"\\w{4,}[ой, ий, ый, ая, ья, ью, ое, ые, ее, ье, ие, ьи, ого, его, ей, ему, ому, ыми, ими, ым, им, ом, ем, их, ых, ми]\""
   ]
  },
  {
   "cell_type": "code",
   "execution_count": 97,
   "metadata": {},
   "outputs": [],
   "source": [
    "noun = r\"\\w{4,}[а, и, е, у, й, я, о, ом, ём, ем, ь, ью]\""
   ]
  },
  {
   "cell_type": "code",
   "execution_count": 118,
   "metadata": {},
   "outputs": [],
   "source": [
    "regex =  adjective+noun"
   ]
  },
  {
   "cell_type": "code",
   "execution_count": 208,
   "metadata": {},
   "outputs": [
    {
     "data": {
      "text/plain": [
       "array(['Пирсы и пляжные променады', 'Специализированные музеи', 'Мосты',\n",
       "       'Образовательные объекты', 'Парки', 'Театры и представления',\n",
       "       'Культурные объекты и достопримечательности', 'Памятники и статуи',\n",
       "       'Церкви и соборы', 'Театры', 'Торговые центры',\n",
       "       'Горячие источники и гейзеры', 'Аквапарки', 'Исторические музеи',\n",
       "       'Арены и стадионы', 'Религиозные достопримечательности',\n",
       "       'Оздоровительные клубы', 'Спа', 'Термальные спа-центры',\n",
       "       'Зоопарки', 'Художественные галереи', 'Спортивные комплексы',\n",
       "       'На Мельникайте в Городе мастеров наодится небльшой художественный салон Альбины Харитоновой, выбор картин большой, проводятся выставки.',\n",
       "       'Сады', 'Боулинг', 'Бары и клубы', 'Комеди-клубы',\n",
       "       'Клубы на пляже и у бассейна',\n",
       "       'Другие виды активного отдыха на открытом воздухе',\n",
       "       'Кулинарные мастер-классы',\n",
       "       'Специализированные и сувенирные магазины', 'Кинотеатры',\n",
       "       'Квест Рум', 'Концерты', 'Игровые и развлекательные центры',\n",
       "       'Йога и пилатес', 'Железнодорожное сообщение',\n",
       "       'Маршруты для верховой езды', 'Конные экскурсии',\n",
       "       'Художественные студии и гончарные мастерские',\n",
       "       'Танцевальные клубы и дискотеки'], dtype=object)"
      ]
     },
     "execution_count": 208,
     "metadata": {},
     "output_type": "execute_result"
    }
   ],
   "source": [
    "tags"
   ]
  },
  {
   "cell_type": "code",
   "execution_count": 216,
   "metadata": {},
   "outputs": [],
   "source": [
    "table = pd.ExcelWriter(\"./tables/tags_by_place.xlsx\")\n",
    "\n",
    "for tag in tags:\n",
    "\n",
    "    df = data.query(\"tag == @tag\").copy()\n",
    "    \n",
    "    place_dict = {}\n",
    "\n",
    "    for i in df.index:\n",
    "\n",
    "        review = (\n",
    "            df\n",
    "            .loc[i]\n",
    "            .review_body\n",
    "            .replace(\",\", '')\n",
    "            .replace(\".\", \" POI \")\n",
    "            .lower()\n",
    "        )\n",
    "        review_rating = df.loc[i].review_rating\n",
    "        findall = re.findall(\n",
    "            regex, \n",
    "            review\n",
    "        )\n",
    "        for token in findall:\n",
    "            if token not in place_dict:\n",
    "                place_dict[token] = {\n",
    "                    \"count\": 1, \n",
    "                    \"ratings\": [review_rating, ]\n",
    "                }\n",
    "            else:            \n",
    "                count = final_dict[token][\"count\"]+1\n",
    "                place_dict[token][\"ratings\"].append(review_rating)\n",
    "\n",
    "                place_dict[token][\"count\"] = count\n",
    "\n",
    "    place_df = (\n",
    "        pd.DataFrame()\n",
    "        .from_dict(place_dict, orient=\"index\")\n",
    "        .sort_values(\"count\", ascending=False)\n",
    "    )\n",
    "    place_df[\"mean_rating\"] = place_df[\"ratings\"].apply(lambda x: np.mean(x))\n",
    "    place_df.drop(\"ratings\", axis=1, inplace=True)\n",
    "    place_df[\"count_reviews\"] = df.shape[0]\n",
    "    place_df[\"count_places\"] = len(df.place_id.unique())\n",
    "\n",
    "    place_df.to_excel(table, sheet_name=tag[:30])\n",
    "table.close()"
   ]
  },
  {
   "cell_type": "code",
   "execution_count": null,
   "metadata": {},
   "outputs": [],
   "source": []
  }
 ],
 "metadata": {
  "kernelspec": {
   "display_name": ".venv",
   "language": "python",
   "name": "python3"
  },
  "language_info": {
   "codemirror_mode": {
    "name": "ipython",
    "version": 3
   },
   "file_extension": ".py",
   "mimetype": "text/x-python",
   "name": "python",
   "nbconvert_exporter": "python",
   "pygments_lexer": "ipython3",
   "version": "3.10.6"
  },
  "orig_nbformat": 4
 },
 "nbformat": 4,
 "nbformat_minor": 2
}
