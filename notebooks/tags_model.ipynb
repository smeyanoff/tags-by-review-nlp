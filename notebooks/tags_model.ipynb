{
 "cells": [
  {
   "cell_type": "code",
   "execution_count": 5,
   "metadata": {},
   "outputs": [],
   "source": [
    "import pandas as pd\n",
    "import numpy as np"
   ]
  },
  {
   "cell_type": "code",
   "execution_count": 6,
   "metadata": {},
   "outputs": [],
   "source": [
    "pd.set_option(\"display.max_columns\", 20)\n",
    "pd.set_option(\"display.max_rows\", 100)\n",
    "pd.set_option(\"display.max_colwidth\", 100)"
   ]
  },
  {
   "attachments": {},
   "cell_type": "markdown",
   "metadata": {},
   "source": [
    "## Analyze data"
   ]
  },
  {
   "cell_type": "code",
   "execution_count": 9,
   "metadata": {},
   "outputs": [],
   "source": [
    "import pandas as pd\n",
    "data = pd.read_parquet(\"data/prepared_data/prepared_df.parquet\")"
   ]
  },
  {
   "cell_type": "code",
   "execution_count": 10,
   "metadata": {},
   "outputs": [
    {
     "data": {
      "text/html": [
       "<div>\n",
       "<style scoped>\n",
       "    .dataframe tbody tr th:only-of-type {\n",
       "        vertical-align: middle;\n",
       "    }\n",
       "\n",
       "    .dataframe tbody tr th {\n",
       "        vertical-align: top;\n",
       "    }\n",
       "\n",
       "    .dataframe thead th {\n",
       "        text-align: right;\n",
       "    }\n",
       "</style>\n",
       "<table border=\"1\" class=\"dataframe\">\n",
       "  <thead>\n",
       "    <tr style=\"text-align: right;\">\n",
       "      <th></th>\n",
       "      <th>place_id</th>\n",
       "      <th>review</th>\n",
       "      <th>question</th>\n",
       "      <th>tags</th>\n",
       "      <th>proba</th>\n",
       "    </tr>\n",
       "  </thead>\n",
       "  <tbody>\n",
       "    <tr>\n",
       "      <th>26697</th>\n",
       "      <td>27</td>\n",
       "      <td>Находится в центре города, недалеко от автобусной остановки. Эрвье был начальником Главного Тюме...</td>\n",
       "      <td>Что?</td>\n",
       "      <td>[памятник подходит объект фотографирования]</td>\n",
       "      <td>[0.469, 0.265]</td>\n",
       "    </tr>\n",
       "    <tr>\n",
       "      <th>34849</th>\n",
       "      <td>91</td>\n",
       "      <td>Запущенный сквер, но если скверик пролегает на пути вашего следования, то в сухую, теплую погоду...</td>\n",
       "      <td>Для чего?</td>\n",
       "      <td>None</td>\n",
       "      <td>None</td>\n",
       "    </tr>\n",
       "    <tr>\n",
       "      <th>10401</th>\n",
       "      <td>2</td>\n",
       "      <td>Великолепное место. Визитная карточка города, присутствующая на большом числе рекламных проспект...</td>\n",
       "      <td>Какой?</td>\n",
       "      <td>[визитная карточка города]</td>\n",
       "      <td>[0.408, 0.23]</td>\n",
       "    </tr>\n",
       "    <tr>\n",
       "      <th>31749</th>\n",
       "      <td>46</td>\n",
       "      <td>раньше это был просто небольшой сквер с памятником Борцам революции, теперь же это еще и крутая ...</td>\n",
       "      <td>Для чего?</td>\n",
       "      <td>[крутая детская площадка]</td>\n",
       "      <td>[0.347, 0.383]</td>\n",
       "    </tr>\n",
       "    <tr>\n",
       "      <th>8212</th>\n",
       "      <td>2</td>\n",
       "      <td>Мост ведет на другую сторону реки, в район частного сектора и совершенно другой атмосферы, Много...</td>\n",
       "      <td>Когда?</td>\n",
       "      <td>[летом весной]</td>\n",
       "      <td>[0.915, 0.554]</td>\n",
       "    </tr>\n",
       "    <tr>\n",
       "      <th>32369</th>\n",
       "      <td>51</td>\n",
       "      <td>Гулял вечером в близлежащем районе от моей гостиницы и случайно обнаружил этот оригинальный памя...</td>\n",
       "      <td>Для чего?</td>\n",
       "      <td>[напротив медицинской академии]</td>\n",
       "      <td>[0.305, 0.335]</td>\n",
       "    </tr>\n",
       "    <tr>\n",
       "      <th>26475</th>\n",
       "      <td>27</td>\n",
       "      <td>Памятник Юрию Эрвье колоритен. Он отражает тюменский дух. Некоторая суровость, мужественность лю...</td>\n",
       "      <td>Для кого?</td>\n",
       "      <td>[полноты впечатлений тюмени]</td>\n",
       "      <td>[0.779, 0.526]</td>\n",
       "    </tr>\n",
       "    <tr>\n",
       "      <th>4226</th>\n",
       "      <td>1</td>\n",
       "      <td>Правильнее сказать самая дорогая. Она смотрится и правду очень дорого. Она шире чем сама река и ...</td>\n",
       "      <td>С кем?</td>\n",
       "      <td>[родители детьми]</td>\n",
       "      <td>[0.885, 0.773]</td>\n",
       "    </tr>\n",
       "    <tr>\n",
       "      <th>35791</th>\n",
       "      <td>100</td>\n",
       "      <td>Итак, #отзывыотнас . Кафе-боулинг Brooklyn Bowl. Сохраняем, чтоб не потерять)) и лайк 😍\\n👌понрав...</td>\n",
       "      <td>Какой?</td>\n",
       "      <td>[кафе - боулинг brooklyn bowl]</td>\n",
       "      <td>[0.301, 0.228]</td>\n",
       "    </tr>\n",
       "    <tr>\n",
       "      <th>2481</th>\n",
       "      <td>1</td>\n",
       "      <td>В хорошую погоду здесь можно встретить почти всех жителей города), настолько популярно это место...</td>\n",
       "      <td>Какой?</td>\n",
       "      <td>[красивущую набережную построили очень удобную - ярусов]</td>\n",
       "      <td>[0.677, 0.221]</td>\n",
       "    </tr>\n",
       "  </tbody>\n",
       "</table>\n",
       "</div>"
      ],
      "text/plain": [
       "       place_id  \\\n",
       "26697        27   \n",
       "34849        91   \n",
       "10401         2   \n",
       "31749        46   \n",
       "8212          2   \n",
       "32369        51   \n",
       "26475        27   \n",
       "4226          1   \n",
       "35791       100   \n",
       "2481          1   \n",
       "\n",
       "                                                                                                    review  \\\n",
       "26697  Находится в центре города, недалеко от автобусной остановки. Эрвье был начальником Главного Тюме...   \n",
       "34849  Запущенный сквер, но если скверик пролегает на пути вашего следования, то в сухую, теплую погоду...   \n",
       "10401  Великолепное место. Визитная карточка города, присутствующая на большом числе рекламных проспект...   \n",
       "31749  раньше это был просто небольшой сквер с памятником Борцам революции, теперь же это еще и крутая ...   \n",
       "8212   Мост ведет на другую сторону реки, в район частного сектора и совершенно другой атмосферы, Много...   \n",
       "32369  Гулял вечером в близлежащем районе от моей гостиницы и случайно обнаружил этот оригинальный памя...   \n",
       "26475  Памятник Юрию Эрвье колоритен. Он отражает тюменский дух. Некоторая суровость, мужественность лю...   \n",
       "4226   Правильнее сказать самая дорогая. Она смотрится и правду очень дорого. Она шире чем сама река и ...   \n",
       "35791  Итак, #отзывыотнас . Кафе-боулинг Brooklyn Bowl. Сохраняем, чтоб не потерять)) и лайк 😍\\n👌понрав...   \n",
       "2481   В хорошую погоду здесь можно встретить почти всех жителей города), настолько популярно это место...   \n",
       "\n",
       "        question                                                      tags  \\\n",
       "26697       Что?               [памятник подходит объект фотографирования]   \n",
       "34849  Для чего?                                                      None   \n",
       "10401     Какой?                                [визитная карточка города]   \n",
       "31749  Для чего?                                 [крутая детская площадка]   \n",
       "8212      Когда?                                            [летом весной]   \n",
       "32369  Для чего?                           [напротив медицинской академии]   \n",
       "26475  Для кого?                              [полноты впечатлений тюмени]   \n",
       "4226      С кем?                                         [родители детьми]   \n",
       "35791     Какой?                            [кафе - боулинг brooklyn bowl]   \n",
       "2481      Какой?  [красивущую набережную построили очень удобную - ярусов]   \n",
       "\n",
       "                proba  \n",
       "26697  [0.469, 0.265]  \n",
       "34849            None  \n",
       "10401   [0.408, 0.23]  \n",
       "31749  [0.347, 0.383]  \n",
       "8212   [0.915, 0.554]  \n",
       "32369  [0.305, 0.335]  \n",
       "26475  [0.779, 0.526]  \n",
       "4226   [0.885, 0.773]  \n",
       "35791  [0.301, 0.228]  \n",
       "2481   [0.677, 0.221]  "
      ]
     },
     "execution_count": 10,
     "metadata": {},
     "output_type": "execute_result"
    }
   ],
   "source": [
    "data.sample(10)"
   ]
  },
  {
   "cell_type": "markdown",
   "metadata": {},
   "source": [
    "---"
   ]
  },
  {
   "cell_type": "code",
   "execution_count": 299,
   "metadata": {},
   "outputs": [],
   "source": [
    "import os\n",
    "import re\n",
    "os.chdir(\"../\")"
   ]
  },
  {
   "cell_type": "code",
   "execution_count": 49,
   "metadata": {},
   "outputs": [],
   "source": [
    "from src.models import roberta\n",
    "from nltk.corpus import stopwords"
   ]
  },
  {
   "cell_type": "code",
   "execution_count": 82,
   "metadata": {},
   "outputs": [],
   "source": [
    "model = roberta.Pipeline()"
   ]
  },
  {
   "cell_type": "code",
   "execution_count": 995,
   "metadata": {},
   "outputs": [],
   "source": [
    "def return_tags(part: dict, root_dep: str) -> str:\n",
    "        tags = []\n",
    "        # для того, чтобы оставить только главное существительное\n",
    "        root_stop = False\n",
    "        # для того, чтобы возврщать слова из предложения, а не леммы\n",
    "        return_keys = False\n",
    "        single_word = True if len(part.keys()) == 1 else False\n",
    "        for num, key in enumerate(part.keys()):\n",
    "\n",
    "            if single_word:\n",
    "                tags.append(part[key][\"lemma\"])\n",
    "                continue\n",
    "\n",
    "            if root_stop:\n",
    "                break\n",
    "\n",
    "            # should return keys?\n",
    "            if (\n",
    "                num == 0 and (\n",
    "                    (part[key][\"dep\"] == \"case\" or part[key][\"dep\"] == \"advmod\")\n",
    "                    or (part[key][\"dep\"] == \"nsubj\")\n",
    "                    or (part[key][\"pos\"] == 'CCONJ' and part[key][\"dep\"] == 'cc')\n",
    "                    or (part[key][\"dep\"] == 'ROOT')\n",
    "                    or (part[key][\"pos\"] == 'ADJ', part[key][\"dep\"] == 'amod')\n",
    "                )\n",
    "            ):\n",
    "                return_keys = True\n",
    "    \n",
    "            # should pass the word?\n",
    "            if (\n",
    "                (\n",
    "                    part[key][\"pos\"] == \"ADV\" \n",
    "                    and (part[key][\"dep\"] == \"advmod\" or part[key][\"dep\"] == \"punct\")\n",
    "                    and num+1 != len(part.keys()))\n",
    "                or (part[key][\"dep\"] == ['nmod'] and num == 0)\n",
    "                or (part[key][\"pos\"] == 'CCONJ' and part[key][\"dep\"] == 'cc' and num == 0)\n",
    "                or (part[key][\"dep\"] == \"mark\" and root_dep == 'VERB')\n",
    "            ):\n",
    "                continue\n",
    "\n",
    "            if root_dep == 'VERB':\n",
    "                if return_keys:\n",
    "                    tags.append(key)\n",
    "                else:\n",
    "                        tags.append(part[key][\"lemma\"])\n",
    "\n",
    "                if part[key][\"dep\"] == 'xcomp' and len(tags) == 1:\n",
    "                    tags.pop(0)\n",
    "                    tags.append(key)\n",
    "            \n",
    "            elif root_dep == \"NOUN\":\n",
    "                if return_keys:\n",
    "                    tags.append(key)\n",
    "                    if (\n",
    "                        num != 0 \n",
    "                        and part[key][\"dep\"] == \"ROOT\"\n",
    "                        and num != len(part.keys()) - 2\n",
    "                    ):\n",
    "                        root_stop = True\n",
    "                else:\n",
    "                    tags.append(part[key][\"lemma\"])\n",
    "\n",
    "            elif  root_dep == \"ADJ\":\n",
    "                if part[key][\"dep\"] == \"mark\":\n",
    "                    continue\n",
    "                else:\n",
    "                    tags.append(key) \n",
    "\n",
    "            elif  root_dep == \"ADV\":\n",
    "                tags.append(key)\n",
    "\n",
    "            elif  root_dep == \"NUM\":\n",
    "                tags.append(key)  \n",
    "                              \n",
    "            else:\n",
    "                tags.append(part[key][\"lemma\"])\n",
    "\n",
    "        return \" \".join(tags)"
   ]
  },
  {
   "cell_type": "code",
   "execution_count": 996,
   "metadata": {},
   "outputs": [],
   "source": [
    "questions = [\n",
    "    \"что не понравилось в этом месте\",\n",
    "    \"где находится это место\",\n",
    "    \"что это за место\",\n",
    "    \"чем можно заняться в этом месте\",\n",
    "    \"в какое время лучше посетить это место\",\n",
    "    \"как много денег стоит посетить это место\",\n",
    "    \"с кем прийти в это место\"]"
   ]
  },
  {
   "cell_type": "code",
   "execution_count": 997,
   "metadata": {},
   "outputs": [
    {
     "data": {
      "text/plain": [
       "'Очень простая по своей идее скульптура. И одновременно очень трогательная.\\nСтоял изучал фотографии - и ком в горле'"
      ]
     },
     "execution_count": 997,
     "metadata": {},
     "output_type": "execute_result"
    }
   ],
   "source": [
    "example"
   ]
  },
  {
   "cell_type": "code",
   "execution_count": 1002,
   "metadata": {},
   "outputs": [
    {
     "name": "stdout",
     "output_type": "stream",
     "text": [
      "Трогательный монумент расположен в районе дома печати, на пересечении улиц Свердлова и Комсомольской. Очень приятная композиция \n",
      "\n",
      "[{'очень': {'lemma': 'очень', 'pos': 'ADV', 'dep': 'advmod'}, 'приятная': {'lemma': 'приятный', 'pos': 'ADJ', 'dep': 'amod'}, 'композиция': {'lemma': 'композиция', 'pos': 'NOUN', 'dep': 'ROOT'}}]\n",
      "что не понравилось в этом месте\n",
      "['приятная композиция']\n",
      "\n",
      "\n",
      "[{'в': {'lemma': 'в', 'pos': 'ADP', 'dep': 'case'}, 'районе': {'lemma': 'район', 'pos': 'NOUN', 'dep': 'ROOT'}, 'дома': {'lemma': 'дом', 'pos': 'NOUN', 'dep': 'nmod'}, 'печати': {'lemma': 'печать', 'pos': 'NOUN', 'dep': 'nmod'}}]\n",
      "где находится это место\n",
      "['в районе']\n",
      "\n",
      "\n",
      "[{'в': {'lemma': 'в', 'pos': 'ADP', 'dep': 'case'}, 'районе': {'lemma': 'район', 'pos': 'NOUN', 'dep': 'ROOT'}, 'дома': {'lemma': 'дом', 'pos': 'NOUN', 'dep': 'nmod'}, 'печати': {'lemma': 'печать', 'pos': 'NOUN', 'dep': 'nmod'}}]\n",
      "что это за место\n",
      "['в районе']\n",
      "\n",
      "\n",
      "[{'в': {'lemma': 'в', 'pos': 'ADP', 'dep': 'case'}, 'районе': {'lemma': 'район', 'pos': 'NOUN', 'dep': 'ROOT'}, 'дома': {'lemma': 'дом', 'pos': 'NOUN', 'dep': 'nmod'}, 'печати': {'lemma': 'печать', 'pos': 'NOUN', 'dep': 'nmod'}}]\n",
      "чем можно заняться в этом месте\n",
      "['в районе']\n",
      "\n",
      "\n",
      "[{'в': {'lemma': 'в', 'pos': 'ADP', 'dep': 'case'}, 'районе': {'lemma': 'район', 'pos': 'NOUN', 'dep': 'ROOT'}, 'дома': {'lemma': 'дом', 'pos': 'NOUN', 'dep': 'nmod'}, 'печати': {'lemma': 'печать', 'pos': 'NOUN', 'dep': 'nmod'}}]\n",
      "в какое время лучше посетить это место\n",
      "['в районе']\n",
      "\n",
      "\n",
      "[{'денег': {'lemma': 'деньга', 'pos': 'NOUN', 'dep': 'nsubj'}, 'стоит': {'lemma': 'стоить', 'pos': 'VERB', 'dep': 'ROOT'}}]\n",
      "как много денег стоит посетить это место\n",
      "['денег стоит']\n",
      "\n",
      "\n",
      "[{'с': {'lemma': 'с', 'pos': 'ADP', 'dep': 'case'}, 'кем': {'lemma': 'кто', 'pos': 'PRON', 'dep': 'obl'}, 'прийти': {'lemma': 'прийти', 'pos': 'VERB', 'dep': 'ROOT'}}]\n",
      "с кем прийти в это место\n",
      "['с кем прийти']\n",
      "\n",
      "\n"
     ]
    }
   ],
   "source": [
    "for i in data.sample(1).index:\n",
    "    example = data.review[i]\n",
    "    print(example, \"\\n\")\n",
    "    for question in questions:\n",
    "        answer, probas = model.answer(example, question, 0.)\n",
    "\n",
    "\n",
    "\n",
    "        if (\n",
    "            not answer or\n",
    "            answer == '' or\n",
    "            answer == question.lower().replace('?', '')\n",
    "        ):\n",
    "            continue\n",
    "\n",
    "        try:\n",
    "            answer = answer.split(\">\")[1]\n",
    "        except IndexError:\n",
    "            pass\n",
    "        # print(answer)\n",
    "\n",
    "        stops = stopwords.words(\"russian\")\n",
    "        stops = [word for word in stops if word not in model._norm_words+[\"не\", \"на\", \"от\", \"а\", \"в\", \"за\", \"до\", \"с\"]]\n",
    "\n",
    "        corpus = answer.split(\" \")\n",
    "        text = \" \".join([word for word in corpus if word not in stops])\n",
    "        text_list = re.split(r', |\\. |\\.|,| а | и | просто | или |!|!!!| ! ', text)\n",
    "\n",
    "        answer_cleared = text_list\n",
    "        # print(text_list)\n",
    "\n",
    "        parts = []\n",
    "        roots_dep = []\n",
    "        for answer in answer_cleared:\n",
    "            document = model._nlp_model(answer)\n",
    "            doc_dict = {}\n",
    "            for token in document:\n",
    "                if token.pos_ not in \"PUNCT\":\n",
    "                    doc_dict[token.text] = {\n",
    "                        \"lemma\": token.lemma_,\n",
    "                        \"pos\": token.pos_,\n",
    "                        \"dep\": token.dep_,\n",
    "                    }\n",
    "                    if token.dep_ == \"ROOT\":\n",
    "                        roots_dep.append(token.pos_)\n",
    "            parts.append(doc_dict)\n",
    "        \n",
    "        print(parts)\n",
    "\n",
    "        tags = []\n",
    "        for part, root_dep in zip(parts, roots_dep):\n",
    "            if part:\n",
    "                tags.append(return_tags(part, root_dep))\n",
    "        \n",
    "        print(question, tags, \"\\n\", sep = \"\\n\")"
   ]
  },
  {
   "cell_type": "code",
   "execution_count": 740,
   "metadata": {},
   "outputs": [
    {
     "data": {
      "text/plain": [
       "[]"
      ]
     },
     "execution_count": 740,
     "metadata": {},
     "output_type": "execute_result"
    }
   ],
   "source": [
    "answer"
   ]
  },
  {
   "cell_type": "code",
   "execution_count": 723,
   "metadata": {},
   "outputs": [
    {
     "data": {
      "text/plain": [
       "['свой фирменный стиль']"
      ]
     },
     "execution_count": 723,
     "metadata": {},
     "output_type": "execute_result"
    }
   ],
   "source": [
    "answer"
   ]
  },
  {
   "cell_type": "code",
   "execution_count": null,
   "metadata": {},
   "outputs": [],
   "source": []
  }
 ],
 "metadata": {
  "kernelspec": {
   "display_name": ".venv",
   "language": "python",
   "name": "python3"
  },
  "language_info": {
   "codemirror_mode": {
    "name": "ipython",
    "version": 3
   },
   "file_extension": ".py",
   "mimetype": "text/x-python",
   "name": "python",
   "nbconvert_exporter": "python",
   "pygments_lexer": "ipython3",
   "version": "3.10.12"
  },
  "orig_nbformat": 4
 },
 "nbformat": 4,
 "nbformat_minor": 2
}
