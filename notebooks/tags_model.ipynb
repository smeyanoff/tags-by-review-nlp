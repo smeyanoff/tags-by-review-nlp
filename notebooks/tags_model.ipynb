{
 "cells": [
  {
   "cell_type": "code",
   "execution_count": 1,
   "metadata": {},
   "outputs": [],
   "source": [
    "import pandas as pd\n",
    "import numpy as np"
   ]
  },
  {
   "cell_type": "code",
   "execution_count": 2,
   "metadata": {},
   "outputs": [],
   "source": [
    "import os\n",
    "import re\n",
    "os.chdir(\"../\")"
   ]
  },
  {
   "cell_type": "code",
   "execution_count": 3,
   "metadata": {},
   "outputs": [],
   "source": [
    "pd.set_option(\"display.max_columns\", 20)\n",
    "pd.set_option(\"display.max_rows\", 100)\n",
    "pd.set_option(\"display.max_colwidth\", 100)"
   ]
  },
  {
   "attachments": {},
   "cell_type": "markdown",
   "metadata": {},
   "source": [
    "## Analyze data"
   ]
  },
  {
   "cell_type": "code",
   "execution_count": 4,
   "metadata": {},
   "outputs": [],
   "source": [
    "import pandas as pd\n",
    "df = pd.read_parquet(\"data/prepared_data/prepared_df.parquet\")"
   ]
  },
  {
   "cell_type": "code",
   "execution_count": 5,
   "metadata": {},
   "outputs": [
    {
     "data": {
      "text/html": [
       "<div>\n",
       "<style scoped>\n",
       "    .dataframe tbody tr th:only-of-type {\n",
       "        vertical-align: middle;\n",
       "    }\n",
       "\n",
       "    .dataframe tbody tr th {\n",
       "        vertical-align: top;\n",
       "    }\n",
       "\n",
       "    .dataframe thead th {\n",
       "        text-align: right;\n",
       "    }\n",
       "</style>\n",
       "<table border=\"1\" class=\"dataframe\">\n",
       "  <thead>\n",
       "    <tr style=\"text-align: right;\">\n",
       "      <th></th>\n",
       "      <th>place_id</th>\n",
       "      <th>review</th>\n",
       "      <th>question</th>\n",
       "      <th>tags</th>\n",
       "      <th>proba</th>\n",
       "    </tr>\n",
       "  </thead>\n",
       "  <tbody>\n",
       "    <tr>\n",
       "      <th>0</th>\n",
       "      <td>1</td>\n",
       "      <td>Красивая набережная с барельефами отражающими историю города Тюмень Красивые виды Зимой строят с...</td>\n",
       "      <td>на что можно посмотреть в этом месте</td>\n",
       "      <td>[соревнование]</td>\n",
       "      <td>[0.625, 0.73]</td>\n",
       "    </tr>\n",
       "    <tr>\n",
       "      <th>1</th>\n",
       "      <td>1</td>\n",
       "      <td>Красивая набережная с барельефами отражающими историю города Тюмень Красивые виды Зимой строят с...</td>\n",
       "      <td>как было в этом месте</td>\n",
       "      <td>[красивая набережная]</td>\n",
       "      <td>[0.722, 0.309]</td>\n",
       "    </tr>\n",
       "    <tr>\n",
       "      <th>2</th>\n",
       "      <td>1</td>\n",
       "      <td>Красивая набережная с барельефами отражающими историю города Тюмень Красивые виды Зимой строят с...</td>\n",
       "      <td>что делать в этом месте</td>\n",
       "      <td>[посмотреть, просто погулять]</td>\n",
       "      <td>[0.643, 0.516]</td>\n",
       "    </tr>\n",
       "    <tr>\n",
       "      <th>3</th>\n",
       "      <td>1</td>\n",
       "      <td>Красивая набережная с барельефами отражающими историю города Тюмень Красивые виды Зимой строят с...</td>\n",
       "      <td>какие ожидания от этого места</td>\n",
       "      <td>[посмотреть, просто погулять]</td>\n",
       "      <td>[0.671, 0.56]</td>\n",
       "    </tr>\n",
       "    <tr>\n",
       "      <th>4</th>\n",
       "      <td>1</td>\n",
       "      <td>Красивая набережная с барельефами отражающими историю города Тюмень Красивые виды Зимой строят с...</td>\n",
       "      <td>для кого это место</td>\n",
       "      <td>[посмотреть, просто погулять]</td>\n",
       "      <td>[0.487, 0.379]</td>\n",
       "    </tr>\n",
       "    <tr>\n",
       "      <th>...</th>\n",
       "      <td>...</td>\n",
       "      <td>...</td>\n",
       "      <td>...</td>\n",
       "      <td>...</td>\n",
       "      <td>...</td>\n",
       "    </tr>\n",
       "    <tr>\n",
       "      <th>21980</th>\n",
       "      <td>199</td>\n",
       "      <td>Не адекват встречает на входе. Стоит малолетка и запускает бородатых и губастых малолеток. Хотел...</td>\n",
       "      <td>на что можно посмотреть в этом месте</td>\n",
       "      <td>[не адекват встречает на входе]</td>\n",
       "      <td>[0.412, 0.282]</td>\n",
       "    </tr>\n",
       "    <tr>\n",
       "      <th>21981</th>\n",
       "      <td>199</td>\n",
       "      <td>Не адекват встречает на входе. Стоит малолетка и запускает бородатых и губастых малолеток. Хотел...</td>\n",
       "      <td>как было в этом месте</td>\n",
       "      <td>[]</td>\n",
       "      <td>[]</td>\n",
       "    </tr>\n",
       "    <tr>\n",
       "      <th>21982</th>\n",
       "      <td>199</td>\n",
       "      <td>Не адекват встречает на входе. Стоит малолетка и запускает бородатых и губастых малолеток. Хотел...</td>\n",
       "      <td>что делать в этом месте</td>\n",
       "      <td>[стоит малолетка, запускает бородатых, губастых малолеток]</td>\n",
       "      <td>[0.608, 0.392]</td>\n",
       "    </tr>\n",
       "    <tr>\n",
       "      <th>21983</th>\n",
       "      <td>199</td>\n",
       "      <td>Не адекват встречает на входе. Стоит малолетка и запускает бородатых и губастых малолеток. Хотел...</td>\n",
       "      <td>какие ожидания от этого места</td>\n",
       "      <td>[хотели потратить]</td>\n",
       "      <td>[0.598, 0.3]</td>\n",
       "    </tr>\n",
       "    <tr>\n",
       "      <th>21984</th>\n",
       "      <td>199</td>\n",
       "      <td>Не адекват встречает на входе. Стоит малолетка и запускает бородатых и губастых малолеток. Хотел...</td>\n",
       "      <td>для кого это место</td>\n",
       "      <td>[стоит малолетка, запускает бородатых, губастых малолеток]</td>\n",
       "      <td>[0.326, 0.61]</td>\n",
       "    </tr>\n",
       "  </tbody>\n",
       "</table>\n",
       "<p>21985 rows × 5 columns</p>\n",
       "</div>"
      ],
      "text/plain": [
       "       place_id  \\\n",
       "0             1   \n",
       "1             1   \n",
       "2             1   \n",
       "3             1   \n",
       "4             1   \n",
       "...         ...   \n",
       "21980       199   \n",
       "21981       199   \n",
       "21982       199   \n",
       "21983       199   \n",
       "21984       199   \n",
       "\n",
       "                                                                                                    review  \\\n",
       "0      Красивая набережная с барельефами отражающими историю города Тюмень Красивые виды Зимой строят с...   \n",
       "1      Красивая набережная с барельефами отражающими историю города Тюмень Красивые виды Зимой строят с...   \n",
       "2      Красивая набережная с барельефами отражающими историю города Тюмень Красивые виды Зимой строят с...   \n",
       "3      Красивая набережная с барельефами отражающими историю города Тюмень Красивые виды Зимой строят с...   \n",
       "4      Красивая набережная с барельефами отражающими историю города Тюмень Красивые виды Зимой строят с...   \n",
       "...                                                                                                    ...   \n",
       "21980  Не адекват встречает на входе. Стоит малолетка и запускает бородатых и губастых малолеток. Хотел...   \n",
       "21981  Не адекват встречает на входе. Стоит малолетка и запускает бородатых и губастых малолеток. Хотел...   \n",
       "21982  Не адекват встречает на входе. Стоит малолетка и запускает бородатых и губастых малолеток. Хотел...   \n",
       "21983  Не адекват встречает на входе. Стоит малолетка и запускает бородатых и губастых малолеток. Хотел...   \n",
       "21984  Не адекват встречает на входе. Стоит малолетка и запускает бородатых и губастых малолеток. Хотел...   \n",
       "\n",
       "                                   question  \\\n",
       "0      на что можно посмотреть в этом месте   \n",
       "1                     как было в этом месте   \n",
       "2                   что делать в этом месте   \n",
       "3             какие ожидания от этого места   \n",
       "4                        для кого это место   \n",
       "...                                     ...   \n",
       "21980  на что можно посмотреть в этом месте   \n",
       "21981                 как было в этом месте   \n",
       "21982               что делать в этом месте   \n",
       "21983         какие ожидания от этого места   \n",
       "21984                    для кого это место   \n",
       "\n",
       "                                                             tags  \\\n",
       "0                                                  [соревнование]   \n",
       "1                                           [красивая набережная]   \n",
       "2                                   [посмотреть, просто погулять]   \n",
       "3                                   [посмотреть, просто погулять]   \n",
       "4                                   [посмотреть, просто погулять]   \n",
       "...                                                           ...   \n",
       "21980                             [не адекват встречает на входе]   \n",
       "21981                                                          []   \n",
       "21982  [стоит малолетка, запускает бородатых, губастых малолеток]   \n",
       "21983                                          [хотели потратить]   \n",
       "21984  [стоит малолетка, запускает бородатых, губастых малолеток]   \n",
       "\n",
       "                proba  \n",
       "0       [0.625, 0.73]  \n",
       "1      [0.722, 0.309]  \n",
       "2      [0.643, 0.516]  \n",
       "3       [0.671, 0.56]  \n",
       "4      [0.487, 0.379]  \n",
       "...               ...  \n",
       "21980  [0.412, 0.282]  \n",
       "21981              []  \n",
       "21982  [0.608, 0.392]  \n",
       "21983    [0.598, 0.3]  \n",
       "21984   [0.326, 0.61]  \n",
       "\n",
       "[21985 rows x 5 columns]"
      ]
     },
     "execution_count": 5,
     "metadata": {},
     "output_type": "execute_result"
    }
   ],
   "source": [
    "df"
   ]
  },
  {
   "cell_type": "markdown",
   "metadata": {},
   "source": [
    "---"
   ]
  },
  {
   "cell_type": "code",
   "execution_count": 6,
   "metadata": {},
   "outputs": [
    {
     "name": "stderr",
     "output_type": "stream",
     "text": [
      "/home/dmitry/projects/tags-by-review-nlp/.venv/lib/python3.10/site-packages/tqdm/auto.py:21: TqdmWarning: IProgress not found. Please update jupyter and ipywidgets. See https://ipywidgets.readthedocs.io/en/stable/user_install.html\n",
      "  from .autonotebook import tqdm as notebook_tqdm\n"
     ]
    }
   ],
   "source": [
    "from src.models import roberta\n",
    "from nltk.corpus import stopwords"
   ]
  },
  {
   "cell_type": "code",
   "execution_count": 7,
   "metadata": {},
   "outputs": [],
   "source": [
    "df = pd.read_parquet(\"data/intermediate_data/comments_tags.parquet\").iloc[:10]"
   ]
  },
  {
   "cell_type": "code",
   "execution_count": 17,
   "metadata": {},
   "outputs": [],
   "source": [
    "model = roberta.Pipeline()"
   ]
  },
  {
   "cell_type": "code",
   "execution_count": 18,
   "metadata": {},
   "outputs": [],
   "source": [
    "config = roberta.config"
   ]
  },
  {
   "cell_type": "code",
   "execution_count": 19,
   "metadata": {},
   "outputs": [],
   "source": [
    "questions = config[\"questions\"]\n",
    "proba = config[\"cut_off_proba\"]"
   ]
  },
  {
   "cell_type": "code",
   "execution_count": 26,
   "metadata": {},
   "outputs": [
    {
     "ename": "KeyError",
     "evalue": "10",
     "output_type": "error",
     "traceback": [
      "\u001b[0;31m---------------------------------------------------------------------------\u001b[0m",
      "\u001b[0;31mValueError\u001b[0m                                Traceback (most recent call last)",
      "File \u001b[0;32m~/projects/tags-by-review-nlp/.venv/lib/python3.10/site-packages/pandas/core/indexes/range.py:414\u001b[0m, in \u001b[0;36mRangeIndex.get_loc\u001b[0;34m(self, key)\u001b[0m\n\u001b[1;32m    413\u001b[0m \u001b[39mtry\u001b[39;00m:\n\u001b[0;32m--> 414\u001b[0m     \u001b[39mreturn\u001b[39;00m \u001b[39mself\u001b[39;49m\u001b[39m.\u001b[39;49m_range\u001b[39m.\u001b[39;49mindex(new_key)\n\u001b[1;32m    415\u001b[0m \u001b[39mexcept\u001b[39;00m \u001b[39mValueError\u001b[39;00m \u001b[39mas\u001b[39;00m err:\n",
      "\u001b[0;31mValueError\u001b[0m: 10 is not in range",
      "\nThe above exception was the direct cause of the following exception:\n",
      "\u001b[0;31mKeyError\u001b[0m                                  Traceback (most recent call last)",
      "\u001b[1;32m/home/dmitry/projects/tags-by-review-nlp/notebooks/tags_model.ipynb Cell 13\u001b[0m line \u001b[0;36m1\n\u001b[0;32m----> <a href='vscode-notebook-cell://wsl%2Bubuntu-22.04d/home/dmitry/projects/tags-by-review-nlp/notebooks/tags_model.ipynb#X21sdnNjb2RlLXJlbW90ZQ%3D%3D?line=0'>1</a>\u001b[0m example \u001b[39m=\u001b[39m df\u001b[39m.\u001b[39;49mreview_body[\u001b[39m10\u001b[39;49m]\n\u001b[1;32m      <a href='vscode-notebook-cell://wsl%2Bubuntu-22.04d/home/dmitry/projects/tags-by-review-nlp/notebooks/tags_model.ipynb#X21sdnNjb2RlLXJlbW90ZQ%3D%3D?line=1'>2</a>\u001b[0m \u001b[39mprint\u001b[39m(example, \u001b[39m\"\u001b[39m\u001b[39m\\n\u001b[39;00m\u001b[39m\"\u001b[39m)\n\u001b[1;32m      <a href='vscode-notebook-cell://wsl%2Bubuntu-22.04d/home/dmitry/projects/tags-by-review-nlp/notebooks/tags_model.ipynb#X21sdnNjb2RlLXJlbW90ZQ%3D%3D?line=2'>3</a>\u001b[0m \u001b[39mfor\u001b[39;00m question \u001b[39min\u001b[39;00m questions:\n",
      "File \u001b[0;32m~/projects/tags-by-review-nlp/.venv/lib/python3.10/site-packages/pandas/core/series.py:1040\u001b[0m, in \u001b[0;36mSeries.__getitem__\u001b[0;34m(self, key)\u001b[0m\n\u001b[1;32m   1037\u001b[0m     \u001b[39mreturn\u001b[39;00m \u001b[39mself\u001b[39m\u001b[39m.\u001b[39m_values[key]\n\u001b[1;32m   1039\u001b[0m \u001b[39melif\u001b[39;00m key_is_scalar:\n\u001b[0;32m-> 1040\u001b[0m     \u001b[39mreturn\u001b[39;00m \u001b[39mself\u001b[39;49m\u001b[39m.\u001b[39;49m_get_value(key)\n\u001b[1;32m   1042\u001b[0m \u001b[39m# Convert generator to list before going through hashable part\u001b[39;00m\n\u001b[1;32m   1043\u001b[0m \u001b[39m# (We will iterate through the generator there to check for slices)\u001b[39;00m\n\u001b[1;32m   1044\u001b[0m \u001b[39mif\u001b[39;00m is_iterator(key):\n",
      "File \u001b[0;32m~/projects/tags-by-review-nlp/.venv/lib/python3.10/site-packages/pandas/core/series.py:1156\u001b[0m, in \u001b[0;36mSeries._get_value\u001b[0;34m(self, label, takeable)\u001b[0m\n\u001b[1;32m   1153\u001b[0m     \u001b[39mreturn\u001b[39;00m \u001b[39mself\u001b[39m\u001b[39m.\u001b[39m_values[label]\n\u001b[1;32m   1155\u001b[0m \u001b[39m# Similar to Index.get_value, but we do not fall back to positional\u001b[39;00m\n\u001b[0;32m-> 1156\u001b[0m loc \u001b[39m=\u001b[39m \u001b[39mself\u001b[39;49m\u001b[39m.\u001b[39;49mindex\u001b[39m.\u001b[39;49mget_loc(label)\n\u001b[1;32m   1158\u001b[0m \u001b[39mif\u001b[39;00m is_integer(loc):\n\u001b[1;32m   1159\u001b[0m     \u001b[39mreturn\u001b[39;00m \u001b[39mself\u001b[39m\u001b[39m.\u001b[39m_values[loc]\n",
      "File \u001b[0;32m~/projects/tags-by-review-nlp/.venv/lib/python3.10/site-packages/pandas/core/indexes/range.py:416\u001b[0m, in \u001b[0;36mRangeIndex.get_loc\u001b[0;34m(self, key)\u001b[0m\n\u001b[1;32m    414\u001b[0m         \u001b[39mreturn\u001b[39;00m \u001b[39mself\u001b[39m\u001b[39m.\u001b[39m_range\u001b[39m.\u001b[39mindex(new_key)\n\u001b[1;32m    415\u001b[0m     \u001b[39mexcept\u001b[39;00m \u001b[39mValueError\u001b[39;00m \u001b[39mas\u001b[39;00m err:\n\u001b[0;32m--> 416\u001b[0m         \u001b[39mraise\u001b[39;00m \u001b[39mKeyError\u001b[39;00m(key) \u001b[39mfrom\u001b[39;00m \u001b[39merr\u001b[39;00m\n\u001b[1;32m    417\u001b[0m \u001b[39mif\u001b[39;00m \u001b[39misinstance\u001b[39m(key, Hashable):\n\u001b[1;32m    418\u001b[0m     \u001b[39mraise\u001b[39;00m \u001b[39mKeyError\u001b[39;00m(key)\n",
      "\u001b[0;31mKeyError\u001b[0m: 10"
     ]
    },
    {
     "ename": "",
     "evalue": "",
     "output_type": "error",
     "traceback": [
      "\u001b[1;31mThe Kernel crashed while executing code in the the current cell or a previous cell. Please review the code in the cell(s) to identify a possible cause of the failure. Click <a href='https://aka.ms/vscodeJupyterKernelCrash'>here</a> for more info. View Jupyter <a href='command:jupyter.viewOutput'>log</a> for further details."
     ]
    }
   ],
   "source": [
    "example = df.review_body[10]\n",
    "print(example, \"\\n\")\n",
    "for question in questions:\n",
    "    answer, probas = model.answer(example, question, 0.)\n",
    "\n",
    "    if (\n",
    "        not answer or\n",
    "        answer == '' or\n",
    "        answer == question.lower().replace('?', '')\n",
    "    ):\n",
    "        continue\n",
    "\n",
    "    try:\n",
    "        answer = answer.split(\">\")[1]\n",
    "    except IndexError:\n",
    "        pass\n",
    "    # print(answer)\n",
    "\n",
    "    stops = stopwords.words(\"russian\")\n",
    "    stops = [word for word in stops if word not in model._norm_words+[\"не\", \"на\", \"от\", \"а\", \"в\", \"за\", \"до\", \"с\"]]\n",
    "\n",
    "    corpus = answer.split(\" \")\n",
    "    text = \" \".join([word for word in corpus if word not in stops])\n",
    "    text_list = re.split(r', |\\. |\\.|,| а | и | просто | или |!|!!!| ! ', text)\n",
    "\n",
    "    answer_cleared = text_list\n",
    "    # print(text_list)\n",
    "\n",
    "    parts = []\n",
    "    roots_dep = []\n",
    "    for answer in answer_cleared:\n",
    "        document = model._nlp_model(answer)\n",
    "        doc_dict = {}\n",
    "        for token in document:\n",
    "            if token.pos_ not in \"PUNCT\":\n",
    "                doc_dict[token.text] = {\n",
    "                    \"lemma\": token.lemma_,\n",
    "                    \"pos\": token.pos_,\n",
    "                    \"dep\": token.dep_,\n",
    "                }\n",
    "                if token.dep_ == \"ROOT\":\n",
    "                    roots_dep.append(token.pos_)\n",
    "        parts.append(doc_dict)\n",
    "    \n",
    "    print(parts)\n",
    "\n",
    "    tags = []\n",
    "    for part, root_dep in zip(parts, roots_dep):\n",
    "        if part:\n",
    "            tags.append(model._return_tag(part, root_dep))\n",
    "    \n",
    "    print(question, tags, \"\\n\", sep = \"\\n\")"
   ]
  },
  {
   "cell_type": "code",
   "execution_count": null,
   "metadata": {},
   "outputs": [],
   "source": []
  },
  {
   "cell_type": "code",
   "execution_count": null,
   "metadata": {},
   "outputs": [],
   "source": []
  }
 ],
 "metadata": {
  "kernelspec": {
   "display_name": ".venv",
   "language": "python",
   "name": "python3"
  },
  "language_info": {
   "codemirror_mode": {
    "name": "ipython",
    "version": 3
   },
   "file_extension": ".py",
   "mimetype": "text/x-python",
   "name": "python",
   "nbconvert_exporter": "python",
   "pygments_lexer": "ipython3",
   "version": "3.10.12"
  },
  "orig_nbformat": 4
 },
 "nbformat": 4,
 "nbformat_minor": 2
}
